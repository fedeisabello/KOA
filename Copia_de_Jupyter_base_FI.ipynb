{
  "nbformat": 4,
  "nbformat_minor": 0,
  "metadata": {
    "colab": {
      "name": "Copia de Jupyter_base FI.ipynb",
      "provenance": [],
      "collapsed_sections": [],
      "include_colab_link": true
    },
    "kernelspec": {
      "name": "python3",
      "display_name": "Python 3"
    },
    "language_info": {
      "name": "python"
    },
    "accelerator": "GPU"
  },
  "cells": [
    {
      "cell_type": "markdown",
      "metadata": {
        "id": "view-in-github",
        "colab_type": "text"
      },
      "source": [
        "<a href=\"https://colab.research.google.com/github/leandrocino/KOA/blob/master/Copia_de_Jupyter_base_FI.ipynb\" target=\"_parent\"><img src=\"https://colab.research.google.com/assets/colab-badge.svg\" alt=\"Open In Colab\"/></a>"
      ]
    },
    {
      "cell_type": "markdown",
      "source": [
        "# Cargar la data y preprocesarla.\n",
        "\n"
      ],
      "metadata": {
        "id": "88tyn51qPiSD"
      }
    },
    {
      "cell_type": "code",
      "source": [
        "\"\"\"Con esto montan el drive al colab.\"\"\"\n",
        "from google.colab import drive\n",
        "drive.mount('/content/drive/')\n",
        "\n"
      ],
      "metadata": {
        "colab": {
          "base_uri": "https://localhost:8080/"
        },
        "id": "jSiUAUg7VmRA",
        "outputId": "b1128051-eae2-4311-d1b8-71cae074518d"
      },
      "execution_count": null,
      "outputs": [
        {
          "output_type": "stream",
          "name": "stdout",
          "text": [
            "Mounted at /content/drive/\n"
          ]
        }
      ]
    },
    {
      "cell_type": "code",
      "source": [
        "path = '/content/drive/MyDrive/Data_koa/Old_Data_with_Kaggle_Format'\n",
        "path_train = '/content/drive/MyDrive/Data_koa/Old_Data_with_Kaggle_Format/train'\n",
        "path_validation = '/content/drive/MyDrive/Data_koa/val'\n",
        "path_test = '/content/drive/MyDrive/Data_koa/Old_Data_with_Kaggle_Format/test'"
      ],
      "metadata": {
        "id": "_TGmrbqWV7K7"
      },
      "execution_count": null,
      "outputs": []
    },
    {
      "cell_type": "markdown",
      "source": [
        ""
      ],
      "metadata": {
        "id": "cV8NrEiQwF7a"
      }
    },
    {
      "cell_type": "markdown",
      "source": [
        "## Variables.\n"
      ],
      "metadata": {
        "id": "qPKGN1mGSR2m"
      }
    },
    {
      "cell_type": "code",
      "source": [
        "\"\"\" Seleccionar la cantidad de imagenes que se quieren cargar\"\"\"\n",
        "n_img = 50\n",
        "\"\"\" Seleccionar el tamaño de los batches\"\"\"\n",
        "batch_size = 64\n",
        "\"\"\"Tamaño de img\"\"\"\n",
        "height = 224\n",
        "width = 224\n",
        "\"\"\"Generador de aleatoreidad\"\"\"\n",
        "seed = None\n",
        "\"\"\"Guardar imagenes transformadas\"\"\"\n",
        "save_to_dir = None\n",
        "\"\"\"Preprocesado \"\"\"\n",
        "preprocessing_function = None"
      ],
      "metadata": {
        "id": "26xxloVtQImu"
      },
      "execution_count": null,
      "outputs": []
    },
    {
      "cell_type": "markdown",
      "source": [
        "## Codigo Keras preoprocessing image generator\n"
      ],
      "metadata": {
        "id": "UELPDchXSZ1s"
      }
    },
    {
      "cell_type": "code",
      "source": [
        "from tensorflow.keras.preprocessing.image import ImageDataGenerator\n",
        "from tensorflow.keras.applications.vgg16 import preprocess_input\n",
        "\n",
        "image_generator = ImageDataGenerator(rescale=1./255,    \n",
        "                                     preprocessing_function = None)\n",
        "\n",
        "image_generator_augmented = ImageDataGenerator(rescale=1./255, \n",
        "                                               horizontal_flip = True, \n",
        "                                               vertical_flip= True,\n",
        "                                               zoom_range=0.2,\n",
        "                                               preprocessing_function = None\n",
        "                                               )\n",
        "\n",
        "train_dataset = image_generator_augmented.flow_from_directory(batch_size=batch_size,\n",
        "                                                    directory=path_train,\n",
        "                                                    shuffle=False,\n",
        "                                                    seed=seed,\n",
        "                                                    target_size=(width, height), \n",
        "                                                    #subset=\"training\",\n",
        "                                                    class_mode='categorical')\n",
        "\n",
        "test_dataset = image_generator.flow_from_directory(batch_size=batch_size,\n",
        "                                                 directory=path_test,\n",
        "                                                 shuffle=False,\n",
        "                                                 seed=seed,\n",
        "                                                 target_size=(width, height), \n",
        "                                                 #subset=\"validation\",\n",
        "                                                 class_mode='categorical')\n",
        "\n",
        "validation_dataset = image_generator.flow_from_directory(batch_size=batch_size,\n",
        "                                                 directory=path_validation,\n",
        "                                                 shuffle=False,\n",
        "                                                 seed=seed,\n",
        "                                                 target_size=( width, height), \n",
        "                                                 #subset=\"validation\",\n",
        "                                                 class_mode='categorical')\n",
        "\n"
      ],
      "metadata": {
        "colab": {
          "base_uri": "https://localhost:8080/"
        },
        "id": "48wTtgS0faFn",
        "outputId": "7209d887-eed5-4487-8d82-908be64c9605"
      },
      "execution_count": null,
      "outputs": [
        {
          "output_type": "stream",
          "name": "stdout",
          "text": [
            "Found 5788 images belonging to 5 classes.\n",
            "Found 1656 images belonging to 5 classes.\n",
            "Found 686 images belonging to 5 classes.\n"
          ]
        }
      ]
    },
    {
      "cell_type": "code",
      "source": [
        "len(train_dataset) # tengo X=91 batches de 64 imagenes"
      ],
      "metadata": {
        "colab": {
          "base_uri": "https://localhost:8080/"
        },
        "id": "fCjVJETnw-zy",
        "outputId": "05aa3fe1-440f-4cac-ac0f-41f0c039726c"
      },
      "execution_count": null,
      "outputs": [
        {
          "output_type": "execute_result",
          "data": {
            "text/plain": [
              "91"
            ]
          },
          "metadata": {},
          "execution_count": 61
        }
      ]
    },
    {
      "cell_type": "code",
      "source": [
        "len(train_dataset[0])\n",
        "#train_dataset[0][1]"
      ],
      "metadata": {
        "colab": {
          "base_uri": "https://localhost:8080/"
        },
        "id": "9LZoHg7BxD9S",
        "outputId": "73e65358-e150-4239-fcaf-640d8312d203"
      },
      "execution_count": null,
      "outputs": [
        {
          "output_type": "execute_result",
          "data": {
            "text/plain": [
              "2"
            ]
          },
          "metadata": {},
          "execution_count": 62
        }
      ]
    },
    {
      "cell_type": "code",
      "source": [
        "train_dataset[0][0].shape #accedo al primer batch, que tiene  64 imagenes,"
      ],
      "metadata": {
        "colab": {
          "base_uri": "https://localhost:8080/"
        },
        "id": "lJvaMpgPxK3i",
        "outputId": "b8c573a2-7315-45ef-d03f-520dc84fb2a0"
      },
      "execution_count": null,
      "outputs": [
        {
          "output_type": "execute_result",
          "data": {
            "text/plain": [
              "(64, 224, 224, 3)"
            ]
          },
          "metadata": {},
          "execution_count": 63
        }
      ]
    },
    {
      "cell_type": "code",
      "source": [
        "train_dataset[0][0][0].shape"
      ],
      "metadata": {
        "colab": {
          "base_uri": "https://localhost:8080/"
        },
        "id": "MS0B-z9CyEmy",
        "outputId": "a619f333-7ec2-4655-c029-5e576b258629"
      },
      "execution_count": null,
      "outputs": [
        {
          "output_type": "execute_result",
          "data": {
            "text/plain": [
              "(224, 224, 3)"
            ]
          },
          "metadata": {},
          "execution_count": 64
        }
      ]
    },
    {
      "cell_type": "code",
      "source": [
        "train_dataset[0][0][0] #tenemos mal escalados los valores"
      ],
      "metadata": {
        "colab": {
          "base_uri": "https://localhost:8080/"
        },
        "id": "Nq4GSAgXyRvp",
        "outputId": "07a0f419-7da3-4754-caf9-0d9358c5f55e"
      },
      "execution_count": null,
      "outputs": [
        {
          "output_type": "execute_result",
          "data": {
            "text/plain": [
              "array([[[0.18039216, 0.18039216, 0.18039216],\n",
              "        [0.18039216, 0.18039216, 0.18039216],\n",
              "        [0.18328428, 0.18328428, 0.18328428],\n",
              "        ...,\n",
              "        [0.35342154, 0.35342154, 0.35342154],\n",
              "        [0.34901962, 0.34901962, 0.34901962],\n",
              "        [0.34696072, 0.34696072, 0.34696072]],\n",
              "\n",
              "       [[0.18039216, 0.18039216, 0.18039216],\n",
              "        [0.18039216, 0.18039216, 0.18039216],\n",
              "        [0.18328428, 0.18328428, 0.18328428],\n",
              "        ...,\n",
              "        [0.35342154, 0.35342154, 0.35342154],\n",
              "        [0.34901962, 0.34901962, 0.34901962],\n",
              "        [0.34696072, 0.34696072, 0.34696072]],\n",
              "\n",
              "       [[0.18039216, 0.18039216, 0.18039216],\n",
              "        [0.18039216, 0.18039216, 0.18039216],\n",
              "        [0.18328428, 0.18328428, 0.18328428],\n",
              "        ...,\n",
              "        [0.35342154, 0.35342154, 0.35342154],\n",
              "        [0.34901962, 0.34901962, 0.34901962],\n",
              "        [0.34696072, 0.34696072, 0.34696072]],\n",
              "\n",
              "       ...,\n",
              "\n",
              "       [[0.39966172, 0.39966172, 0.39966172],\n",
              "        [0.4064754 , 0.4064754 , 0.4064754 ],\n",
              "        [0.40784317, 0.40784317, 0.40784317],\n",
              "        ...,\n",
              "        [0.4017206 , 0.4017206 , 0.4017206 ],\n",
              "        [0.39979652, 0.39979652, 0.39979652],\n",
              "        [0.38906854, 0.38906854, 0.38906854]],\n",
              "\n",
              "       [[0.39966172, 0.39966172, 0.39966172],\n",
              "        [0.4064754 , 0.4064754 , 0.4064754 ],\n",
              "        [0.40784317, 0.40784317, 0.40784317],\n",
              "        ...,\n",
              "        [0.4017206 , 0.4017206 , 0.4017206 ],\n",
              "        [0.39979652, 0.39979652, 0.39979652],\n",
              "        [0.38906854, 0.38906854, 0.38906854]],\n",
              "\n",
              "       [[0.39966172, 0.39966172, 0.39966172],\n",
              "        [0.4064754 , 0.4064754 , 0.4064754 ],\n",
              "        [0.40784317, 0.40784317, 0.40784317],\n",
              "        ...,\n",
              "        [0.4017206 , 0.4017206 , 0.4017206 ],\n",
              "        [0.39979652, 0.39979652, 0.39979652],\n",
              "        [0.38906854, 0.38906854, 0.38906854]]], dtype=float32)"
            ]
          },
          "metadata": {},
          "execution_count": 65
        }
      ]
    },
    {
      "cell_type": "code",
      "source": [
        "import matplotlib.pyplot as plt\n",
        "plt.imshow(train_dataset[0][0][22])"
      ],
      "metadata": {
        "colab": {
          "base_uri": "https://localhost:8080/",
          "height": 286
        },
        "id": "b8vKRjctyKm4",
        "outputId": "280cddc3-160f-4578-e86e-0cb1009b1be6"
      },
      "execution_count": null,
      "outputs": [
        {
          "output_type": "execute_result",
          "data": {
            "text/plain": [
              "<matplotlib.image.AxesImage at 0x7f9e7a7ed510>"
            ]
          },
          "metadata": {},
          "execution_count": 66
        },
        {
          "output_type": "display_data",
          "data": {
            "image/png": "[encoded data removed]",
            "text/plain": [
              "<Figure size 432x288 with 1 Axes>"
            ]
          },
          "metadata": {
            "needs_background": "light"
          }
        }
      ]
    },
    {
      "cell_type": "markdown",
      "source": [
        "# Instanciar el modelo."
      ],
      "metadata": {
        "id": "41j_uIJ4QMim"
      }
    },
    {
      "cell_type": "markdown",
      "source": [
        "##    Variables.\n"
      ],
      "metadata": {
        "id": "r8wuoJqRR5Cq"
      }
    },
    {
      "cell_type": "code",
      "source": [
        "model = 'DenseNet201'\n",
        "epoch = 100\n"
      ],
      "metadata": {
        "id": "z0dTeXeQR_Yh"
      },
      "execution_count": null,
      "outputs": []
    },
    {
      "cell_type": "markdown",
      "source": [
        "## Modelo"
      ],
      "metadata": {
        "id": "WxK8Kq-4Skwm"
      }
    },
    {
      "cell_type": "code",
      "source": [
        "\"\"\"Transfer Learning\"\"\"\n",
        "\n",
        "from tensorflow.keras.applications import DenseNet201\n",
        "from tensorflow.keras import layers, models, metrics\n",
        "from tensorflow.keras import Sequential\n",
        "from tensorflow.keras.callbacks import EarlyStopping\n",
        "\n",
        "#classes: optional number of classes to classify images into, only to be specified if include_top is True, and if no weights argument is specified.\n",
        "#classifier_activation: A str or callable. The activation function to use on the \"top\" layer. Ignored unless include_top=True. \n",
        "#Set classifier_activation=None to return the logits of the \"top\" layer. When loading pretrained weights, classifier_activation can only be None or \"softmax\".\n",
        "\n",
        "\n",
        "def load_model():\n",
        "    base_model = DenseNet201(include_top=False, weights='imagenet', input_shape=(width, height,3), pooling=None)\n",
        "  \n",
        "    \n",
        "    base_model.trainable=False\n",
        "    \n",
        "    \"\"\"Additional layers\"\"\"\n",
        "    flattening_layer = layers.Flatten()\n",
        "    dense_layer = layers.Dense(500, activation='relu')\n",
        "    prediction_layer = layers.Dense(5, activation='softmax')\n",
        "    convolution_layer = layers.Conv2D(500, (3,3), activation=\"relu\")\n",
        "    #pooling_layer = layers.MaxPool2D(pool_size=(2,2))\n",
        "    convolution_layer_2 = layers.Conv2D(500, (2,2), activation=\"relu\")\n",
        "    pooling_layer_2 = layers.MaxPool2D(pool_size=(3,3))\n",
        "\n",
        "    \n",
        "    model = Sequential([\n",
        "    base_model,\n",
        "    convolution_layer,\n",
        "    #pooling_layer,\n",
        "    convolution_layer_2,\n",
        "    flattening_layer,\n",
        "    dense_layer,\n",
        "    prediction_layer\n",
        "    ])\n",
        "    \n",
        "    \"\"\"Model Compile\"\"\"\n",
        "\n",
        "    model.compile(loss='categorical_crossentropy',\n",
        "                  optimizer='adamax', #no olvidarse de probar tambien ADAM\n",
        "                  metrics=['accuracy']  #probar luego instanciar antes la metrica y usarla aca en variable\n",
        "                  )\n",
        "    \n",
        "    return model"
      ],
      "metadata": {
        "id": "eTgzNvqZSrN6"
      },
      "execution_count": null,
      "outputs": []
    },
    {
      "cell_type": "code",
      "source": [
        "model = load_model()"
      ],
      "metadata": {
        "id": "R_LI3Ve-LKVy"
      },
      "execution_count": null,
      "outputs": []
    },
    {
      "cell_type": "code",
      "source": [
        "model.summary()"
      ],
      "metadata": {
        "colab": {
          "base_uri": "https://localhost:8080/"
        },
        "id": "Ebcu7SyoyAdp",
        "outputId": "a8e4c689-fa8a-4a61-f4d6-5d0eee64a835"
      },
      "execution_count": null,
      "outputs": [
        {
          "output_type": "stream",
          "name": "stdout",
          "text": [
            "Model: \"sequential_3\"\n",
            "_________________________________________________________________\n",
            " Layer (type)                Output Shape              Param #   \n",
            "=================================================================\n",
            " densenet201 (Functional)    (None, 7, 7, 1920)        18321984  \n",
            "                                                                 \n",
            " conv2d_100 (Conv2D)         (None, 5, 5, 500)         8640500   \n",
            "                                                                 \n",
            " conv2d_101 (Conv2D)         (None, 4, 4, 500)         1000500   \n",
            "                                                                 \n",
            " flatten_3 (Flatten)         (None, 8000)              0         \n",
            "                                                                 \n",
            " dense_6 (Dense)             (None, 500)               4000500   \n",
            "                                                                 \n",
            " dense_7 (Dense)             (None, 5)                 2505      \n",
            "                                                                 \n",
            "=================================================================\n",
            "Total params: 31,965,989\n",
            "Trainable params: 13,644,005\n",
            "Non-trainable params: 18,321,984\n",
            "_________________________________________________________________\n"
          ]
        }
      ]
    },
    {
      "cell_type": "code",
      "source": [
        "\"\"\"Model Fit\"\"\"\n",
        "Es = EarlyStopping(patience=30, restore_best_weights=True)\n",
        "model_history = model.fit(train_dataset, \n",
        "                    validation_data = validation_dataset,\n",
        "                    epochs=epoch, \n",
        "                    verbose=1,\n",
        "                    callbacks=[Es]\n",
        "                    )"
      ],
      "metadata": {
        "colab": {
          "base_uri": "https://localhost:8080/"
        },
        "id": "_B8YzBlsKyPd",
        "outputId": "f1ec646e-8094-45ed-cd83-68dd39ce74c1"
      },
      "execution_count": null,
      "outputs": [
        {
          "output_type": "stream",
          "name": "stdout",
          "text": [
            "Epoch 1/100\n",
            "91/91 [==============================] - 822s 9s/step - loss: 3.9862 - accuracy: 0.3697 - val_loss: 1.4856 - val_accuracy: 0.2915\n",
            "Epoch 2/100\n",
            "91/91 [==============================] - 81s 886ms/step - loss: 1.4216 - accuracy: 0.3545 - val_loss: 1.4566 - val_accuracy: 0.3047\n",
            "Epoch 3/100\n",
            "91/91 [==============================] - 80s 879ms/step - loss: 1.3883 - accuracy: 0.4178 - val_loss: 1.4911 - val_accuracy: 0.2915\n",
            "Epoch 4/100\n",
            "91/91 [==============================] - 81s 886ms/step - loss: 1.3777 - accuracy: 0.4252 - val_loss: 1.4654 - val_accuracy: 0.3207\n",
            "Epoch 5/100\n",
            "91/91 [==============================] - 82s 894ms/step - loss: 1.3110 - accuracy: 0.4319 - val_loss: 1.3156 - val_accuracy: 0.3980\n",
            "Epoch 6/100\n",
            "91/91 [==============================] - 81s 887ms/step - loss: 1.3210 - accuracy: 0.4103 - val_loss: 1.4372 - val_accuracy: 0.3411\n",
            "Epoch 7/100\n",
            "91/91 [==============================] - 81s 889ms/step - loss: 1.3633 - accuracy: 0.4036 - val_loss: 1.3204 - val_accuracy: 0.3469\n",
            "Epoch 8/100\n",
            "91/91 [==============================] - 82s 896ms/step - loss: 1.2773 - accuracy: 0.4428 - val_loss: 1.2800 - val_accuracy: 0.4023\n",
            "Epoch 9/100\n",
            "91/91 [==============================] - 83s 913ms/step - loss: 1.2504 - accuracy: 0.4584 - val_loss: 1.2843 - val_accuracy: 0.4038\n",
            "Epoch 10/100\n",
            "91/91 [==============================] - 82s 900ms/step - loss: 1.2536 - accuracy: 0.4658 - val_loss: 1.2684 - val_accuracy: 0.3921\n",
            "Epoch 11/100\n",
            "91/91 [==============================] - 82s 898ms/step - loss: 1.2142 - accuracy: 0.4689 - val_loss: 1.2358 - val_accuracy: 0.4417\n",
            "Epoch 12/100\n",
            "91/91 [==============================] - 81s 892ms/step - loss: 1.2566 - accuracy: 0.4779 - val_loss: 1.2713 - val_accuracy: 0.3980\n",
            "Epoch 13/100\n",
            "91/91 [==============================] - 82s 901ms/step - loss: 1.2464 - accuracy: 0.4774 - val_loss: 1.3744 - val_accuracy: 0.4548\n",
            "Epoch 14/100\n",
            "91/91 [==============================] - 82s 895ms/step - loss: 1.1961 - accuracy: 0.4758 - val_loss: 1.2196 - val_accuracy: 0.4534\n",
            "Epoch 15/100\n",
            "91/91 [==============================] - 81s 892ms/step - loss: 1.2114 - accuracy: 0.4881 - val_loss: 1.2212 - val_accuracy: 0.4227\n",
            "Epoch 16/100\n",
            "91/91 [==============================] - 82s 903ms/step - loss: 1.1935 - accuracy: 0.4782 - val_loss: 1.1877 - val_accuracy: 0.4767\n",
            "Epoch 17/100\n",
            "91/91 [==============================] - 83s 909ms/step - loss: 1.2134 - accuracy: 0.4787 - val_loss: 1.1876 - val_accuracy: 0.4402\n",
            "Epoch 18/100\n",
            "91/91 [==============================] - 82s 898ms/step - loss: 1.1474 - accuracy: 0.5195 - val_loss: 1.2219 - val_accuracy: 0.4534\n",
            "Epoch 19/100\n",
            "91/91 [==============================] - 82s 901ms/step - loss: 1.2140 - accuracy: 0.4682 - val_loss: 1.2874 - val_accuracy: 0.3994\n",
            "Epoch 20/100\n",
            "91/91 [==============================] - 83s 905ms/step - loss: 1.1649 - accuracy: 0.5028 - val_loss: 1.1651 - val_accuracy: 0.4738\n",
            "Epoch 21/100\n",
            "91/91 [==============================] - 81s 893ms/step - loss: 1.1595 - accuracy: 0.5136 - val_loss: 1.4721 - val_accuracy: 0.3746\n",
            "Epoch 22/100\n",
            "91/91 [==============================] - 82s 895ms/step - loss: 1.1518 - accuracy: 0.5114 - val_loss: 1.1518 - val_accuracy: 0.4665\n",
            "Epoch 23/100\n",
            "91/91 [==============================] - 82s 895ms/step - loss: 1.1166 - accuracy: 0.5180 - val_loss: 1.1318 - val_accuracy: 0.4956\n",
            "Epoch 24/100\n",
            "91/91 [==============================] - 82s 898ms/step - loss: 1.1566 - accuracy: 0.5166 - val_loss: 1.2281 - val_accuracy: 0.4184\n",
            "Epoch 25/100\n",
            "91/91 [==============================] - 82s 897ms/step - loss: 1.1248 - accuracy: 0.5251 - val_loss: 1.3647 - val_accuracy: 0.4155\n",
            "Epoch 26/100\n",
            "91/91 [==============================] - 82s 900ms/step - loss: 1.2819 - accuracy: 0.5007 - val_loss: 1.1358 - val_accuracy: 0.4825\n",
            "Epoch 27/100\n",
            "91/91 [==============================] - 82s 895ms/step - loss: 1.1611 - accuracy: 0.5109 - val_loss: 1.1322 - val_accuracy: 0.4869\n",
            "Epoch 28/100\n",
            "91/91 [==============================] - 83s 905ms/step - loss: 1.0986 - accuracy: 0.5302 - val_loss: 1.1476 - val_accuracy: 0.4752\n",
            "Epoch 29/100\n",
            "91/91 [==============================] - 82s 898ms/step - loss: 1.0834 - accuracy: 0.5439 - val_loss: 1.2387 - val_accuracy: 0.4373\n",
            "Epoch 30/100\n",
            "91/91 [==============================] - 82s 895ms/step - loss: 1.1078 - accuracy: 0.5254 - val_loss: 1.1656 - val_accuracy: 0.4665\n",
            "Epoch 31/100\n",
            "91/91 [==============================] - 82s 902ms/step - loss: 1.1048 - accuracy: 0.5313 - val_loss: 1.1017 - val_accuracy: 0.4854\n",
            "Epoch 32/100\n",
            "91/91 [==============================] - 82s 903ms/step - loss: 1.0581 - accuracy: 0.5582 - val_loss: 1.2012 - val_accuracy: 0.4431\n",
            "Epoch 33/100\n",
            "91/91 [==============================] - 82s 895ms/step - loss: 1.1093 - accuracy: 0.5323 - val_loss: 1.1312 - val_accuracy: 0.4708\n",
            "Epoch 34/100\n",
            "91/91 [==============================] - 81s 893ms/step - loss: 1.0629 - accuracy: 0.5608 - val_loss: 1.1329 - val_accuracy: 0.4869\n",
            "Epoch 35/100\n",
            "91/91 [==============================] - 82s 897ms/step - loss: 1.0420 - accuracy: 0.5610 - val_loss: 1.1522 - val_accuracy: 0.4708\n",
            "Epoch 36/100\n",
            "91/91 [==============================] - 83s 906ms/step - loss: 1.0598 - accuracy: 0.5415 - val_loss: 1.0940 - val_accuracy: 0.4854\n",
            "Epoch 37/100\n",
            "91/91 [==============================] - 82s 897ms/step - loss: 1.0787 - accuracy: 0.5451 - val_loss: 1.2297 - val_accuracy: 0.4592\n",
            "Epoch 38/100\n",
            "91/91 [==============================] - 82s 897ms/step - loss: 1.0892 - accuracy: 0.5368 - val_loss: 1.1715 - val_accuracy: 0.4490\n",
            "Epoch 39/100\n",
            "91/91 [==============================] - 83s 908ms/step - loss: 1.0790 - accuracy: 0.5396 - val_loss: 1.1504 - val_accuracy: 0.4796\n",
            "Epoch 40/100\n",
            "91/91 [==============================] - 82s 904ms/step - loss: 1.0526 - accuracy: 0.5487 - val_loss: 1.0936 - val_accuracy: 0.5000\n",
            "Epoch 41/100\n",
            "91/91 [==============================] - 82s 902ms/step - loss: 1.0308 - accuracy: 0.5600 - val_loss: 1.0910 - val_accuracy: 0.4942\n",
            "Epoch 42/100\n",
            "91/91 [==============================] - 82s 897ms/step - loss: 1.0302 - accuracy: 0.5710 - val_loss: 1.1557 - val_accuracy: 0.4913\n",
            "Epoch 43/100\n",
            "91/91 [==============================] - 82s 910ms/step - loss: 1.0158 - accuracy: 0.5686 - val_loss: 1.0625 - val_accuracy: 0.5058\n",
            "Epoch 44/100\n",
            "91/91 [==============================] - 82s 900ms/step - loss: 1.0421 - accuracy: 0.5525 - val_loss: 1.1236 - val_accuracy: 0.4956\n",
            "Epoch 45/100\n",
            "91/91 [==============================] - 82s 901ms/step - loss: 1.0429 - accuracy: 0.5534 - val_loss: 1.0555 - val_accuracy: 0.5233\n",
            "Epoch 46/100\n",
            "91/91 [==============================] - 82s 899ms/step - loss: 1.0320 - accuracy: 0.5596 - val_loss: 1.1222 - val_accuracy: 0.4825\n",
            "Epoch 47/100\n",
            "91/91 [==============================] - 83s 905ms/step - loss: 1.0139 - accuracy: 0.5708 - val_loss: 1.0503 - val_accuracy: 0.5204\n",
            "Epoch 48/100\n",
            "91/91 [==============================] - 82s 895ms/step - loss: 1.0220 - accuracy: 0.5660 - val_loss: 1.0776 - val_accuracy: 0.5044\n",
            "Epoch 49/100\n",
            "91/91 [==============================] - 82s 901ms/step - loss: 1.0148 - accuracy: 0.5620 - val_loss: 1.0336 - val_accuracy: 0.5219\n",
            "Epoch 50/100\n",
            "91/91 [==============================] - 82s 897ms/step - loss: 0.9922 - accuracy: 0.5807 - val_loss: 1.0469 - val_accuracy: 0.5248\n",
            "Epoch 51/100\n",
            "91/91 [==============================] - 82s 902ms/step - loss: 1.0006 - accuracy: 0.5750 - val_loss: 1.0638 - val_accuracy: 0.5044\n",
            "Epoch 52/100\n",
            "91/91 [==============================] - 82s 900ms/step - loss: 1.0194 - accuracy: 0.5655 - val_loss: 1.0647 - val_accuracy: 0.5233\n",
            "Epoch 53/100\n",
            "91/91 [==============================] - 82s 902ms/step - loss: 1.0237 - accuracy: 0.5758 - val_loss: 1.0613 - val_accuracy: 0.5306\n",
            "Epoch 54/100\n",
            "91/91 [==============================] - 83s 908ms/step - loss: 0.9866 - accuracy: 0.5822 - val_loss: 1.0305 - val_accuracy: 0.5335\n",
            "Epoch 55/100\n",
            "91/91 [==============================] - 82s 901ms/step - loss: 0.9884 - accuracy: 0.5890 - val_loss: 1.0944 - val_accuracy: 0.5131\n",
            "Epoch 56/100\n",
            "91/91 [==============================] - 82s 902ms/step - loss: 0.9694 - accuracy: 0.5878 - val_loss: 1.1273 - val_accuracy: 0.5087\n",
            "Epoch 57/100\n",
            "91/91 [==============================] - 82s 903ms/step - loss: 1.0342 - accuracy: 0.5653 - val_loss: 1.0437 - val_accuracy: 0.5379\n",
            "Epoch 58/100\n",
            "91/91 [==============================] - 83s 913ms/step - loss: 0.9686 - accuracy: 0.5911 - val_loss: 1.0719 - val_accuracy: 0.5233\n",
            "Epoch 59/100\n",
            "91/91 [==============================] - 82s 904ms/step - loss: 0.9667 - accuracy: 0.5936 - val_loss: 1.0062 - val_accuracy: 0.5394\n",
            "Epoch 60/100\n",
            "91/91 [==============================] - 82s 897ms/step - loss: 0.9511 - accuracy: 0.5881 - val_loss: 1.2449 - val_accuracy: 0.4796\n",
            "Epoch 61/100\n",
            "91/91 [==============================] - 82s 901ms/step - loss: 0.9981 - accuracy: 0.5802 - val_loss: 1.1845 - val_accuracy: 0.5117\n",
            "Epoch 62/100\n",
            "91/91 [==============================] - 82s 904ms/step - loss: 0.9584 - accuracy: 0.5902 - val_loss: 1.1322 - val_accuracy: 0.4985\n",
            "Epoch 63/100\n",
            "91/91 [==============================] - 83s 905ms/step - loss: 0.9715 - accuracy: 0.5893 - val_loss: 1.0441 - val_accuracy: 0.5321\n",
            "Epoch 64/100\n",
            "91/91 [==============================] - 83s 906ms/step - loss: 0.9673 - accuracy: 0.5848 - val_loss: 1.0039 - val_accuracy: 0.5321\n",
            "Epoch 65/100\n",
            "91/91 [==============================] - 83s 906ms/step - loss: 0.9638 - accuracy: 0.5949 - val_loss: 1.0784 - val_accuracy: 0.5204\n",
            "Epoch 66/100\n",
            "91/91 [==============================] - 82s 901ms/step - loss: 0.9673 - accuracy: 0.5793 - val_loss: 1.0168 - val_accuracy: 0.5350\n",
            "Epoch 67/100\n",
            "91/91 [==============================] - 83s 906ms/step - loss: 0.9428 - accuracy: 0.5983 - val_loss: 1.0941 - val_accuracy: 0.5233\n",
            "Epoch 68/100\n",
            "91/91 [==============================] - 82s 904ms/step - loss: 0.9241 - accuracy: 0.6133 - val_loss: 1.0681 - val_accuracy: 0.5350\n",
            "Epoch 69/100\n",
            "91/91 [==============================] - 83s 905ms/step - loss: 0.9168 - accuracy: 0.6142 - val_loss: 1.2273 - val_accuracy: 0.4723\n",
            "Epoch 70/100\n",
            "91/91 [==============================] - 82s 903ms/step - loss: 0.9713 - accuracy: 0.5828 - val_loss: 1.0864 - val_accuracy: 0.5190\n",
            "Epoch 71/100\n",
            "91/91 [==============================] - 82s 903ms/step - loss: 0.9441 - accuracy: 0.5983 - val_loss: 1.0589 - val_accuracy: 0.5262\n",
            "Epoch 72/100\n",
            "91/91 [==============================] - 83s 908ms/step - loss: 0.9356 - accuracy: 0.5926 - val_loss: 1.0613 - val_accuracy: 0.5233\n",
            "Epoch 73/100\n",
            "91/91 [==============================] - 83s 906ms/step - loss: 0.8960 - accuracy: 0.6178 - val_loss: 1.0035 - val_accuracy: 0.5233\n",
            "Epoch 74/100\n",
            "91/91 [==============================] - 83s 909ms/step - loss: 0.9072 - accuracy: 0.6126 - val_loss: 0.9868 - val_accuracy: 0.5394\n",
            "Epoch 75/100\n",
            "91/91 [==============================] - 82s 904ms/step - loss: 0.9423 - accuracy: 0.5917 - val_loss: 1.2034 - val_accuracy: 0.5117\n",
            "Epoch 76/100\n",
            "91/91 [==============================] - 83s 911ms/step - loss: 0.9378 - accuracy: 0.6130 - val_loss: 1.1184 - val_accuracy: 0.4927\n",
            "Epoch 77/100\n",
            "91/91 [==============================] - 83s 909ms/step - loss: 0.9221 - accuracy: 0.6099 - val_loss: 1.0664 - val_accuracy: 0.5262\n",
            "Epoch 78/100\n",
            "91/91 [==============================] - 83s 908ms/step - loss: 0.9010 - accuracy: 0.6187 - val_loss: 1.0447 - val_accuracy: 0.5350\n",
            "Epoch 79/100\n",
            "91/91 [==============================] - 83s 906ms/step - loss: 0.8978 - accuracy: 0.6173 - val_loss: 1.0042 - val_accuracy: 0.5466\n",
            "Epoch 80/100\n",
            "91/91 [==============================] - 82s 895ms/step - loss: 0.9036 - accuracy: 0.6102 - val_loss: 1.1214 - val_accuracy: 0.5262\n",
            "Epoch 81/100\n",
            "91/91 [==============================] - 82s 903ms/step - loss: 0.8927 - accuracy: 0.6227 - val_loss: 1.1777 - val_accuracy: 0.5175\n",
            "Epoch 82/100\n",
            "91/91 [==============================] - 82s 902ms/step - loss: 0.9028 - accuracy: 0.6125 - val_loss: 1.0785 - val_accuracy: 0.5262\n",
            "Epoch 83/100\n",
            "91/91 [==============================] - 83s 909ms/step - loss: 0.9073 - accuracy: 0.6223 - val_loss: 1.0241 - val_accuracy: 0.5277\n",
            "Epoch 84/100\n",
            "91/91 [==============================] - 82s 903ms/step - loss: 0.8866 - accuracy: 0.6215 - val_loss: 0.9958 - val_accuracy: 0.5394\n",
            "Epoch 85/100\n",
            "91/91 [==============================] - 83s 908ms/step - loss: 0.8832 - accuracy: 0.6280 - val_loss: 1.0170 - val_accuracy: 0.5262\n",
            "Epoch 86/100\n",
            "91/91 [==============================] - 83s 907ms/step - loss: 0.8859 - accuracy: 0.6168 - val_loss: 0.9872 - val_accuracy: 0.5437\n",
            "Epoch 87/100\n",
            "91/91 [==============================] - 83s 914ms/step - loss: 0.8828 - accuracy: 0.6275 - val_loss: 1.0289 - val_accuracy: 0.5292\n",
            "Epoch 88/100\n",
            "91/91 [==============================] - 83s 912ms/step - loss: 0.9015 - accuracy: 0.6152 - val_loss: 1.0178 - val_accuracy: 0.5335\n",
            "Epoch 89/100\n",
            "91/91 [==============================] - 83s 909ms/step - loss: 0.8642 - accuracy: 0.6322 - val_loss: 1.0244 - val_accuracy: 0.5262\n",
            "Epoch 90/100\n",
            "91/91 [==============================] - 83s 913ms/step - loss: 0.8878 - accuracy: 0.6213 - val_loss: 0.9990 - val_accuracy: 0.5408\n",
            "Epoch 91/100\n",
            "91/91 [==============================] - 83s 909ms/step - loss: 0.8365 - accuracy: 0.6470 - val_loss: 1.1987 - val_accuracy: 0.5204\n",
            "Epoch 92/100\n",
            "91/91 [==============================] - 83s 907ms/step - loss: 0.8828 - accuracy: 0.6220 - val_loss: 1.0569 - val_accuracy: 0.5219\n",
            "Epoch 93/100\n",
            "91/91 [==============================] - 83s 910ms/step - loss: 0.8343 - accuracy: 0.6460 - val_loss: 1.0463 - val_accuracy: 0.5292\n",
            "Epoch 94/100\n",
            "91/91 [==============================] - 83s 914ms/step - loss: 0.9136 - accuracy: 0.6182 - val_loss: 0.9956 - val_accuracy: 0.5539\n",
            "Epoch 95/100\n",
            "91/91 [==============================] - 83s 907ms/step - loss: 0.8617 - accuracy: 0.6382 - val_loss: 1.0562 - val_accuracy: 0.5277\n",
            "Epoch 96/100\n",
            "91/91 [==============================] - 83s 910ms/step - loss: 0.8286 - accuracy: 0.6460 - val_loss: 1.0167 - val_accuracy: 0.5510\n",
            "Epoch 97/100\n",
            "91/91 [==============================] - 83s 912ms/step - loss: 0.8597 - accuracy: 0.6382 - val_loss: 0.9928 - val_accuracy: 0.5277\n",
            "Epoch 98/100\n",
            "91/91 [==============================] - 83s 913ms/step - loss: 0.8446 - accuracy: 0.6436 - val_loss: 0.9893 - val_accuracy: 0.5496\n",
            "Epoch 99/100\n",
            "91/91 [==============================] - 82s 905ms/step - loss: 0.8437 - accuracy: 0.6455 - val_loss: 1.0448 - val_accuracy: 0.5277\n",
            "Epoch 100/100\n",
            "91/91 [==============================] - 83s 910ms/step - loss: 0.8503 - accuracy: 0.6389 - val_loss: 0.9994 - val_accuracy: 0.5408\n"
          ]
        }
      ]
    },
    {
      "cell_type": "code",
      "source": [
        "import matplotlib.pyplot as plt\n",
        "\n",
        "#metrics=['accuracy', metrics.Recall(), metrics.AUC()\n",
        "\n",
        "def plot_history(history, title='', axs=None, exp_name=\"\"):\n",
        "    if axs is not None:\n",
        "        ax1, ax2 = axs\n",
        "    else:\n",
        "        f, (ax1, ax2) = plt.subplots(1, 2, figsize=(12, 4))\n",
        "    \n",
        "    if len(exp_name) > 0 and exp_name[0] != '_':\n",
        "        exp_name = '_' + exp_name\n",
        "    ax1.plot(history.history['loss'], label='train' + exp_name)\n",
        "    ax1.plot(history.history['val_loss'], label='val' + exp_name)\n",
        "    #ax1.set_ylim(0., 2.2)\n",
        "    ax1.set_title('loss')\n",
        "    ax1.legend()\n",
        "\n",
        "    ax2.plot(history.history['accuracy'], label='train accuracy'  + exp_name)\n",
        "    ax2.plot(history.history['val_accuracy'], label='val accuracy'  + exp_name)\n",
        "    #ax2.set_ylim(0.25, 1.)\n",
        "    ax2.set_title('Accuracy')\n",
        "    ax2.legend()\n",
        "    return (ax1, ax2)"
      ],
      "metadata": {
        "id": "DLVaUD2KnaZo"
      },
      "execution_count": null,
      "outputs": []
    },
    {
      "cell_type": "code",
      "source": [
        "plot_history(model_history, title='');"
      ],
      "metadata": {
        "id": "v2guNXVJMUJJ",
        "colab": {
          "base_uri": "https://localhost:8080/",
          "height": 281
        },
        "outputId": "33f2584d-627e-42c0-aca6-2b63dffeba62"
      },
      "execution_count": null,
      "outputs": [
        {
          "output_type": "display_data",
          "data": {
            "image/png": "[encoded data removed]",
            "text/plain": [
              "<Figure size 864x288 with 2 Axes>"
            ]
          },
          "metadata": {
            "needs_background": "light"
          }
        }
      ]
    },
    {
      "cell_type": "markdown",
      "source": [
        "EVALUATE"
      ],
      "metadata": {
        "id": "CYE9eJALIHwI"
      }
    },
    {
      "cell_type": "code",
      "source": [
        "model.evaluate(test_dataset, verbose=1)"
      ],
      "metadata": {
        "colab": {
          "base_uri": "https://localhost:8080/"
        },
        "id": "LIeiGpm_IKeJ",
        "outputId": "6f04f0f5-39b9-4c73-8a02-4f7da744ce0b"
      },
      "execution_count": null,
      "outputs": [
        {
          "output_type": "stream",
          "name": "stdout",
          "text": [
            "14/14 [==============================] - 4s 237ms/step - loss: 1.3125 - accuracy: 0.3631\n"
          ]
        },
        {
          "output_type": "execute_result",
          "data": {
            "text/plain": [
              "[1.3125256299972534, 0.3631022274494171]"
            ]
          },
          "metadata": {},
          "execution_count": 54
        }
      ]
    },
    {
      "cell_type": "code",
      "source": [
        "pred = model.predict(test_dataset)\n",
        "pred"
      ],
      "metadata": {
        "id": "5xzZMFs1L9X2",
        "colab": {
          "base_uri": "https://localhost:8080/"
        },
        "outputId": "1ee9fdeb-97fb-4f27-82e2-5e0e7ce1c210"
      },
      "execution_count": null,
      "outputs": [
        {
          "output_type": "execute_result",
          "data": {
            "text/plain": [
              "array([[4.7623825e-01, 3.7183926e-01, 1.2902658e-01, 2.2796985e-02,\n",
              "        9.8950528e-05],\n",
              "       [4.4657272e-01, 3.7836549e-01, 1.4475392e-01, 3.0155139e-02,\n",
              "        1.5276448e-04],\n",
              "       [2.4709417e-01, 3.1352007e-01, 2.5830689e-01, 1.6144338e-01,\n",
              "        1.9635543e-02],\n",
              "       ...,\n",
              "       [3.1863442e-03, 5.0956840e-03, 2.4009891e-02, 9.6740723e-02,\n",
              "        8.7096733e-01],\n",
              "       [3.6631380e-03, 6.3513685e-03, 2.7098635e-02, 1.2106185e-01,\n",
              "        8.4182501e-01],\n",
              "       [1.3765610e-04, 5.5633549e-04, 9.1513349e-03, 1.7043100e-01,\n",
              "        8.1972367e-01]], dtype=float32)"
            ]
          },
          "metadata": {},
          "execution_count": 55
        }
      ]
    },
    {
      "cell_type": "code",
      "source": [
        "y_pred = pred.argmax(axis=1)\n",
        "\n",
        "y_true = test_dataset.labels"
      ],
      "metadata": {
        "id": "yKrbkEJvMF3-"
      },
      "execution_count": null,
      "outputs": []
    },
    {
      "cell_type": "code",
      "source": [
        "from sklearn.metrics import classification_report\n",
        "\n",
        "print(classification_report(y_true, y_pred))"
      ],
      "metadata": {
        "id": "t9xefNY0MKEt",
        "colab": {
          "base_uri": "https://localhost:8080/"
        },
        "outputId": "d769ab5e-8e5f-4ce7-b1d9-f678e98cd804"
      },
      "execution_count": null,
      "outputs": [
        {
          "output_type": "stream",
          "name": "stdout",
          "text": [
            "              precision    recall  f1-score   support\n",
            "\n",
            "           0       0.65      0.83      0.73       639\n",
            "           1       0.20      0.01      0.03       296\n",
            "           2       0.52      0.66      0.59       447\n",
            "           3       0.75      0.70      0.73       223\n",
            "           4       0.75      0.71      0.73        51\n",
            "\n",
            "    accuracy                           0.62      1656\n",
            "   macro avg       0.58      0.58      0.56      1656\n",
            "weighted avg       0.55      0.62      0.56      1656\n",
            "\n"
          ]
        }
      ]
    },
    {
      "cell_type": "code",
      "source": [
        ""
      ],
      "metadata": {
        "id": "PSfaJtdFCOsu"
      },
      "execution_count": null,
      "outputs": []
    },
    {
      "cell_type": "markdown",
      "source": [
        "https://scikit-learn.org/stable/modules/generated/sklearn.metrics.classification_report.html"
      ],
      "metadata": {
        "id": "8jIKMwSXDNsZ"
      }
    },
    {
      "cell_type": "code",
      "source": [
        "import seaborn as sns\n",
        "import matplotlib.pyplot as plt\n",
        "from sklearn.metrics import confusion_matrix\n",
        "from sklearn.metrics import ConfusionMatrixDisplay\n",
        "\n",
        "cm = confusion_matrix(y_true, y_pred)\n",
        "ax = sns.heatmap(cm, annot=True, cmap='Blues')\n",
        "\n",
        "ax.set_title('Seaborn Confusion Matrix with labels\\n\\n');\n",
        "ax.set_xlabel('\\nPredicted Category')\n",
        "ax.set_ylabel('Actual Category ');\n",
        "\n",
        "## Ticket labels - List must be in alphabetical order\n",
        "ax.xaxis.set_ticklabels(['K0','K1', 'K2', 'K3', 'K4'])\n",
        "ax.yaxis.set_ticklabels(['K0','K1', 'K2', 'K3', 'K4'])\n",
        "\n",
        "## Display the visualization of the Confusion Matrix.\n",
        "plt.show()"
      ],
      "metadata": {
        "colab": {
          "base_uri": "https://localhost:8080/",
          "height": 337
        },
        "id": "NFKNmGiPC_Ld",
        "outputId": "27f84105-6cfc-4564-f77f-5c6cb807164a"
      },
      "execution_count": null,
      "outputs": [
        {
          "output_type": "display_data",
          "data": {
            "image/png": "[encoded data removed]",
            "text/plain": [
              "<Figure size 432x288 with 2 Axes>"
            ]
          },
          "metadata": {
            "needs_background": "light"
          }
        }
      ]
    },
    {
      "cell_type": "code",
      "source": [
        "import joblib\n",
        "joblib_file = \"modelo_lindo.joblib\"  \n",
        "joblib.dump(model, joblib_file)"
      ],
      "metadata": {
        "colab": {
          "base_uri": "https://localhost:8080/"
        },
        "id": "hlAFCKNqWTfG",
        "outputId": "90d6b6a7-c39f-4b83-a4c0-3d72e82e3332"
      },
      "execution_count": null,
      "outputs": [
        {
          "output_type": "stream",
          "name": "stdout",
          "text": [
            "INFO:tensorflow:Assets written to: ram://1220a91f-9bf2-4c42-9c9d-893a204bca94/assets\n"
          ]
        },
        {
          "output_type": "execute_result",
          "data": {
            "text/plain": [
              "['modelo_lindo.joblib']"
            ]
          },
          "metadata": {},
          "execution_count": 88
        }
      ]
    },
    {
      "cell_type": "code",
      "source": [
        "!pwd"
      ],
      "metadata": {
        "colab": {
          "base_uri": "https://localhost:8080/"
        },
        "id": "2VeGAFfxpe-x",
        "outputId": "6832b5cf-880b-413e-8064-1ef60ddc7048"
      },
      "execution_count": null,
      "outputs": [
        {
          "output_type": "stream",
          "name": "stdout",
          "text": [
            "/content\n"
          ]
        }
      ]
    },
    {
      "cell_type": "code",
      "source": [
        "!ls -lh"
      ],
      "metadata": {
        "colab": {
          "base_uri": "https://localhost:8080/"
        },
        "id": "Jm6TE3Afp8je",
        "outputId": "92a5c33d-5847-4b0e-9314-1434ed24f5a7"
      },
      "execution_count": null,
      "outputs": [
        {
          "output_type": "stream",
          "name": "stdout",
          "text": [
            "total 243M\n",
            "drwx------ 5 root root 4.0K Jan 22 10:37 drive\n",
            "-rw-r--r-- 1 root root 243M Jan 22 16:38 modelo_lindo.joblib\n",
            "drwxr-xr-x 1 root root 4.0K Jan  7 14:33 sample_data\n"
          ]
        }
      ]
    },
    {
      "cell_type": "code",
      "source": [
        ""
      ],
      "metadata": {
        "id": "sspv3IJ4qi5R"
      },
      "execution_count": null,
      "outputs": []
    }
  ]
}