{
  "nbformat": 4,
  "nbformat_minor": 0,
  "metadata": {
    "colab": {
      "name": "Copia de Jupyter_base FS (LC).ipynb",
      "provenance": [],
      "collapsed_sections": [],
      "include_colab_link": true
    },
    "kernelspec": {
      "name": "python3",
      "display_name": "Python 3"
    },
    "language_info": {
      "name": "python"
    },
    "accelerator": "GPU"
  },
  "cells": [
    {
      "cell_type": "markdown",
      "metadata": {
        "id": "view-in-github",
        "colab_type": "text"
      },
      "source": [
        "<a href=\"https://colab.research.google.com/github/leandrocino/KOA/blob/master/Copia_de_Jupyter_base_FS_(LC).ipynb\" target=\"_parent\"><img src=\"https://colab.research.google.com/assets/colab-badge.svg\" alt=\"Open In Colab\"/></a>"
      ]
    },
    {
      "cell_type": "markdown",
      "source": [
        "# Cargar la data y preprocesarla.\n",
        "\n"
      ],
      "metadata": {
        "id": "88tyn51qPiSD"
      }
    },
    {
      "cell_type": "code",
      "source": [
        "\"\"\"Con esto montan el drive al colab.\"\"\"\n",
        "from google.colab import drive\n",
        "\n",
        "drive.mount('/content/drive/')"
      ],
      "metadata": {
        "colab": {
          "base_uri": "https://localhost:8080/"
        },
        "id": "jSiUAUg7VmRA",
        "outputId": "3ee2340f-d7e2-4f2c-c4ef-557d706aaefb"
      },
      "execution_count": 1,
      "outputs": [
        {
          "output_type": "stream",
          "name": "stdout",
          "text": [
            "Mounted at /content/drive/\n"
          ]
        }
      ]
    },
    {
      "cell_type": "code",
      "source": [
        "#si necesito correr el modelo con SOLO 200 IMAGENES\n",
        "path = '/content/drive/MyDrive/Data_koa'\n",
        "path_train = '/content/drive/MyDrive/Data_koa/train'\n",
        "path_validation = '/content/drive/MyDrive/Data_koa/val'\n",
        "path_test = '/content/drive/MyDrive/Data_koa/test'\n",
        "\n",
        "#si necesito correr el modelo con TODAS las IMAGENES\n",
        "#path_train_allimages = '/content/drive/MyDrive/Data_koa/train'\n",
        "#path_validation_allimages = '/content/drive/MyDrive/Data_koa/val'\n",
        "#path_test_allimages = '/content/drive/MyDrive/Data_koa/test'\n"
      ],
      "metadata": {
        "id": "_TGmrbqWV7K7"
      },
      "execution_count": 2,
      "outputs": []
    },
    {
      "cell_type": "markdown",
      "source": [
        "## Variables.\n"
      ],
      "metadata": {
        "id": "qPKGN1mGSR2m"
      }
    },
    {
      "cell_type": "code",
      "source": [
        "\"\"\" Seleccionar la cantidad de imagenes que se quieren cargar\"\"\"\n",
        "n_img = 50\n",
        "\"\"\" Seleccionar el tamaño de los batches\"\"\"\n",
        "batch_size = 64\n",
        "\"\"\"Tamaño de img\"\"\"\n",
        "height = 224\n",
        "width = 224\n",
        "\"\"\"Generador de aleatoreidad\"\"\"\n",
        "seed = None\n",
        "\"\"\"Guardar imagenes transformadas\"\"\"\n",
        "save_to_dir = None\n",
        "\"\"\"Preprocesado \"\"\"\n",
        "preprocessing_function = None"
      ],
      "metadata": {
        "id": "26xxloVtQImu"
      },
      "execution_count": 3,
      "outputs": []
    },
    {
      "cell_type": "markdown",
      "source": [
        "## Codigo Keras preoprocessing image generator\n"
      ],
      "metadata": {
        "id": "UELPDchXSZ1s"
      }
    },
    {
      "cell_type": "code",
      "source": [
        "from tensorflow.keras.preprocessing.image import ImageDataGenerator\n",
        "from tensorflow.keras.applications.vgg16 import preprocess_input\n",
        "\n",
        "# image_generator SIN FILTROS\n",
        "image_generator_SF = ImageDataGenerator(rescale=1./255,    \n",
        "                                     preprocessing_function = None, \n",
        "                                     #horizontal_flip=True, \n",
        "                                     #vertical_flip=True,\n",
        "                                     #zoom_range=0.2\n",
        "                                     )  \n",
        "\n",
        "# image_generator CON FILTROS\n",
        "image_generator_CF = ImageDataGenerator(rescale=1./255,    \n",
        "                                     preprocessing_function = None, \n",
        "                                     horizontal_flip=True, \n",
        "                                     vertical_flip=True,\n",
        "                                     zoom_range=0.2\n",
        "                                     )  \n",
        "\n",
        "\n",
        "train_dataset = image_generator_CF.flow_from_directory(batch_size=batch_size,\n",
        "                                                    directory=path_train,\n",
        "                                                    shuffle=False,\n",
        "                                                    seed=seed,\n",
        "                                                    target_size=(width, height), \n",
        "                                                    #subset=\"training\",\n",
        "                                                    class_mode='categorical')\n",
        "\n",
        "test_dataset = image_generator_SF.flow_from_directory(batch_size=batch_size,\n",
        "                                                 directory=path_test,\n",
        "                                                 shuffle=False,\n",
        "                                                 seed=seed,\n",
        "                                                 target_size=(width, height), \n",
        "                                                 #subset=\"validation\",\n",
        "                                                 class_mode='categorical')\n",
        "\n",
        "validation_dataset = image_generator_SF.flow_from_directory(batch_size=batch_size,\n",
        "                                                 directory=path_validation,\n",
        "                                                 shuffle=False,\n",
        "                                                 seed=seed,\n",
        "                                                 target_size=( width, height), \n",
        "                                                 #subset=\"validation\",\n",
        "                                                 class_mode='categorical')\n",
        "\n"
      ],
      "metadata": {
        "colab": {
          "base_uri": "https://localhost:8080/"
        },
        "id": "48wTtgS0faFn",
        "outputId": "2292768b-63ec-46ff-83cc-1896c1d04d30"
      },
      "execution_count": 4,
      "outputs": [
        {
          "output_type": "stream",
          "name": "stdout",
          "text": [
            "Found 973 images belonging to 5 classes.\n",
            "Found 851 images belonging to 5 classes.\n",
            "Found 686 images belonging to 5 classes.\n"
          ]
        }
      ]
    },
    {
      "cell_type": "code",
      "source": [
        "train_dataset[0][0][0].shape"
      ],
      "metadata": {
        "colab": {
          "base_uri": "https://localhost:8080/"
        },
        "id": "MS0B-z9CyEmy",
        "outputId": "3cc81598-3415-4439-b999-4ea5354b1b66"
      },
      "execution_count": 5,
      "outputs": [
        {
          "output_type": "execute_result",
          "data": {
            "text/plain": [
              "(224, 224, 3)"
            ]
          },
          "metadata": {},
          "execution_count": 5
        }
      ]
    },
    {
      "cell_type": "code",
      "source": [
        "train_dataset[0][0][0] "
      ],
      "metadata": {
        "colab": {
          "base_uri": "https://localhost:8080/"
        },
        "id": "Nq4GSAgXyRvp",
        "outputId": "2b23d96f-fc8b-4de7-f65b-8ad98449925d"
      },
      "execution_count": 6,
      "outputs": [
        {
          "output_type": "execute_result",
          "data": {
            "text/plain": [
              "array([[[0.34117648, 0.34117648, 0.34117648],\n",
              "        [0.34117648, 0.34117648, 0.34117648],\n",
              "        [0.34117648, 0.34117648, 0.34117648],\n",
              "        ...,\n",
              "        [0.26666668, 0.26666668, 0.26666668],\n",
              "        [0.26666668, 0.26666668, 0.26666668],\n",
              "        [0.26666668, 0.26666668, 0.26666668]],\n",
              "\n",
              "       [[0.34083351, 0.34083351, 0.34083351],\n",
              "        [0.34083351, 0.34083351, 0.34083351],\n",
              "        [0.34083351, 0.34083351, 0.34083351],\n",
              "        ...,\n",
              "        [0.26598075, 0.26598075, 0.26598075],\n",
              "        [0.26598075, 0.26598075, 0.26598075],\n",
              "        [0.26598075, 0.26598075, 0.26598075]],\n",
              "\n",
              "       [[0.33751294, 0.33751294, 0.33751294],\n",
              "        [0.33751294, 0.33751294, 0.33751294],\n",
              "        [0.33751294, 0.33751294, 0.33751294],\n",
              "        ...,\n",
              "        [0.2593396 , 0.2593396 , 0.2593396 ],\n",
              "        [0.2593396 , 0.2593396 , 0.2593396 ],\n",
              "        [0.2593396 , 0.2593396 , 0.2593396 ]],\n",
              "\n",
              "       ...,\n",
              "\n",
              "       [[0.14755961, 0.14755961, 0.14755961],\n",
              "        [0.14755961, 0.14755961, 0.14755961],\n",
              "        [0.14755961, 0.14755961, 0.14755961],\n",
              "        ...,\n",
              "        [0.2524404 , 0.2524404 , 0.2524404 ],\n",
              "        [0.2524404 , 0.2524404 , 0.2524404 ],\n",
              "        [0.2524404 , 0.2524404 , 0.2524404 ]],\n",
              "\n",
              "       [[0.14595705, 0.14595705, 0.14595705],\n",
              "        [0.14595705, 0.14595705, 0.14595705],\n",
              "        [0.14595705, 0.14595705, 0.14595705],\n",
              "        ...,\n",
              "        [0.255761  , 0.255761  , 0.255761  ],\n",
              "        [0.255761  , 0.255761  , 0.255761  ],\n",
              "        [0.255761  , 0.255761  , 0.255761  ]],\n",
              "\n",
              "       [[0.14901961, 0.14901961, 0.14901961],\n",
              "        [0.14901961, 0.14901961, 0.14901961],\n",
              "        [0.14901961, 0.14901961, 0.14901961],\n",
              "        ...,\n",
              "        [0.25882354, 0.25882354, 0.25882354],\n",
              "        [0.25882354, 0.25882354, 0.25882354],\n",
              "        [0.25882354, 0.25882354, 0.25882354]]], dtype=float32)"
            ]
          },
          "metadata": {},
          "execution_count": 6
        }
      ]
    },
    {
      "cell_type": "code",
      "source": [
        "import matplotlib.pyplot as plt\n",
        "plt.imshow(train_dataset[0][0][26])"
      ],
      "metadata": {
        "colab": {
          "base_uri": "https://localhost:8080/",
          "height": 286
        },
        "id": "b8vKRjctyKm4",
        "outputId": "708da322-f582-4d91-a25d-e36ec564b9de"
      },
      "execution_count": 7,
      "outputs": [
        {
          "output_type": "execute_result",
          "data": {
            "text/plain": [
              "<matplotlib.image.AxesImage at 0x7fbfb02465d0>"
            ]
          },
          "metadata": {},
          "execution_count": 7
        },
        {
          "output_type": "display_data",
          "data": {
            "image/png": "[encoded data removed]",
            "text/plain": [
              "<Figure size 432x288 with 1 Axes>"
            ]
          },
          "metadata": {
            "needs_background": "light"
          }
        }
      ]
    },
    {
      "cell_type": "markdown",
      "source": [
        "# Instanciar el modelo."
      ],
      "metadata": {
        "id": "41j_uIJ4QMim"
      }
    },
    {
      "cell_type": "markdown",
      "source": [
        "##    Variables.\n"
      ],
      "metadata": {
        "id": "r8wuoJqRR5Cq"
      }
    },
    {
      "cell_type": "code",
      "source": [
        "\"\"\"Modelos base\"\"\"\n",
        "\n",
        "#from tensorflow.keras.applications import InceptionV3\n",
        "#model = 'InceptionV3'\n",
        "#base_model_InceptionV3 = InceptionV3(include_top=False, weights='imagenet', input_shape=(width,height,3))\n",
        "#base_model_InceptionV3.trainable=False\n",
        "\n",
        "\n",
        "#from tensorflow.keras.applications import VGG16\n",
        "#from tensorflow.keras.applications.vgg16 import preprocess_input \n",
        "#model = 'VGG16'\n",
        "#base_model_VGG16 = VGG16(include_top=False, weights='imagenet', input_tensor=None, input_shape=(width,height,3), pooling=None, classes=1000, classifier_activation='softmax')\n",
        "#base_model_VGG16.trainable=False\n",
        "\n",
        "\n",
        "from tensorflow.keras.applications import DenseNet201\n",
        "model = 'DenseNet201'\n",
        "base_model_DenseNet201 = DenseNet201(include_top=False, weights='imagenet', input_tensor=None, input_shape=(width,height,3), pooling=None, classes=1000)\n",
        "base_model_DenseNet201.trainable=False\n",
        "\n",
        "\n",
        "#defino las EPOCHs\n",
        "epoch = 100\n",
        "\n",
        "from tensorflow.keras import layers, models, metrics\n",
        "from tensorflow.keras import Sequential\n",
        "from tensorflow.keras.callbacks import EarlyStopping\n",
        "from tensorflow.keras import regularizers"
      ],
      "metadata": {
        "id": "z0dTeXeQR_Yh",
        "colab": {
          "base_uri": "https://localhost:8080/"
        },
        "outputId": "53888ecc-8ca4-4a2e-e980-fcfb42c62592"
      },
      "execution_count": 8,
      "outputs": [
        {
          "output_type": "stream",
          "name": "stdout",
          "text": [
            "Downloading data from https://storage.googleapis.com/tensorflow/keras-applications/densenet/densenet201_weights_tf_dim_ordering_tf_kernels_notop.h5\n",
            "74842112/74836368 [==============================] - 1s 0us/step\n",
            "74850304/74836368 [==============================] - 1s 0us/step\n"
          ]
        }
      ]
    },
    {
      "cell_type": "markdown",
      "source": [
        "## Modelo"
      ],
      "metadata": {
        "id": "WxK8Kq-4Skwm"
      }
    },
    {
      "cell_type": "code",
      "source": [
        "def load_model():\n",
        "    \n",
        "    \"\"\"Transfer learning\"\"\"\n",
        "    #traigo en model el modelo base que deseo utilizar\n",
        "    model = base_model_DenseNet201\n",
        "    \n",
        "    \"\"\"Additional layers\"\"\"\n",
        "    #model.add(layers.Conv2D(filters=32, kernel_size=(3,3),\n",
        "    #              activation='relu', input_shape=(width, height, 3), padding='same'))\n",
        "    \n",
        "    #model.add(layers.Conv2D(filters=32, kernel_size=(3,3), activation='relu', padding='same'))\n",
        "    \n",
        "    #model.add(layers.MaxPool2D(pool_size=(2,2)))\n",
        "    \n",
        "    #model.add(layers.Dropout(0.5))\n",
        "    \n",
        "    #model.add(layers.Dense(64, activation='relu',\n",
        "    #              kernel_regularizer = regularizers.l2(l=0.1)))\n",
        "    \n",
        "    \"\"\"Additional layers\"\"\"\n",
        "    flattening_layer = layers.Flatten()\n",
        "    dense_layer = layers.Dense(500, activation='relu')\n",
        "    prediction_layer = layers.Dense(5, activation='softmax')\n",
        "    \n",
        "    model = Sequential([\n",
        "    #base_model_InceptionV3,\n",
        "    #base_model_VGG16,\n",
        "    base_model_DenseNet201,\n",
        "    flattening_layer,\n",
        "    dense_layer,\n",
        "    prediction_layer\n",
        "    ])\n",
        "    \n",
        "    \"\"\"Prediction layer\"\"\"\n",
        "    #model.add(layers.Dense(5, activation='softmax'))        \n",
        "   \n",
        "    \"\"\"Model Compile\"\"\"\n",
        "\n",
        "    model.compile(loss='categorical_crossentropy',\n",
        "                  optimizer='adam', #no olvidarse de probar tambien ADAM/ADAMAX\n",
        "                  metrics=['accuracy']  \n",
        "                  )\n",
        "    return model"
      ],
      "metadata": {
        "id": "eTgzNvqZSrN6"
      },
      "execution_count": 9,
      "outputs": []
    },
    {
      "cell_type": "code",
      "source": [
        "model = load_model()"
      ],
      "metadata": {
        "id": "IR63YzbF96Qj"
      },
      "execution_count": 10,
      "outputs": []
    },
    {
      "cell_type": "code",
      "source": [
        "\"\"\"Model Fit\"\"\"\n",
        "Es = EarlyStopping(patience=30, restore_best_weights=True)\n",
        "model_history = model.fit(train_dataset, \n",
        "                    validation_data = validation_dataset,\n",
        "                    epochs=epoch, \n",
        "                    verbose=1,\n",
        "                    callbacks=[Es]\n",
        "                    )"
      ],
      "metadata": {
        "colab": {
          "base_uri": "https://localhost:8080/",
          "height": 451
        },
        "id": "_QhLcJxiL1sk",
        "outputId": "7ed1344f-3417-4bc7-dd9c-72f5fe96958b"
      },
      "execution_count": 11,
      "outputs": [
        {
          "output_type": "stream",
          "name": "stdout",
          "text": [
            "Epoch 1/100\n",
            "16/16 [==============================] - 437s 27s/step - loss: 101.9477 - accuracy: 0.2230 - val_loss: 5.7973 - val_accuracy: 0.2915\n",
            "Epoch 2/100\n",
            " 4/16 [======>.......................] - ETA: 2:51 - loss: 3.0155 - accuracy: 0.2500"
          ]
        },
        {
          "output_type": "error",
          "ename": "KeyboardInterrupt",
          "evalue": "ignored",
          "traceback": [
            "\u001b[0;31m---------------------------------------------------------------------------\u001b[0m",
            "\u001b[0;31mKeyboardInterrupt\u001b[0m                         Traceback (most recent call last)",
            "\u001b[0;32m<ipython-input-11-5f612045dada>\u001b[0m in \u001b[0;36m<module>\u001b[0;34m()\u001b[0m\n\u001b[1;32m      5\u001b[0m                     \u001b[0mepochs\u001b[0m\u001b[0;34m=\u001b[0m\u001b[0mepoch\u001b[0m\u001b[0;34m,\u001b[0m\u001b[0;34m\u001b[0m\u001b[0;34m\u001b[0m\u001b[0m\n\u001b[1;32m      6\u001b[0m                     \u001b[0mverbose\u001b[0m\u001b[0;34m=\u001b[0m\u001b[0;36m1\u001b[0m\u001b[0;34m,\u001b[0m\u001b[0;34m\u001b[0m\u001b[0;34m\u001b[0m\u001b[0m\n\u001b[0;32m----> 7\u001b[0;31m                     \u001b[0mcallbacks\u001b[0m\u001b[0;34m=\u001b[0m\u001b[0;34m[\u001b[0m\u001b[0mEs\u001b[0m\u001b[0;34m]\u001b[0m\u001b[0;34m\u001b[0m\u001b[0;34m\u001b[0m\u001b[0m\n\u001b[0m\u001b[1;32m      8\u001b[0m                     )\n",
            "\u001b[0;32m/usr/local/lib/python3.7/dist-packages/keras/utils/traceback_utils.py\u001b[0m in \u001b[0;36merror_handler\u001b[0;34m(*args, **kwargs)\u001b[0m\n\u001b[1;32m     62\u001b[0m     \u001b[0mfiltered_tb\u001b[0m \u001b[0;34m=\u001b[0m \u001b[0;32mNone\u001b[0m\u001b[0;34m\u001b[0m\u001b[0;34m\u001b[0m\u001b[0m\n\u001b[1;32m     63\u001b[0m     \u001b[0;32mtry\u001b[0m\u001b[0;34m:\u001b[0m\u001b[0;34m\u001b[0m\u001b[0;34m\u001b[0m\u001b[0m\n\u001b[0;32m---> 64\u001b[0;31m       \u001b[0;32mreturn\u001b[0m \u001b[0mfn\u001b[0m\u001b[0;34m(\u001b[0m\u001b[0;34m*\u001b[0m\u001b[0margs\u001b[0m\u001b[0;34m,\u001b[0m \u001b[0;34m**\u001b[0m\u001b[0mkwargs\u001b[0m\u001b[0;34m)\u001b[0m\u001b[0;34m\u001b[0m\u001b[0;34m\u001b[0m\u001b[0m\n\u001b[0m\u001b[1;32m     65\u001b[0m     \u001b[0;32mexcept\u001b[0m \u001b[0mException\u001b[0m \u001b[0;32mas\u001b[0m \u001b[0me\u001b[0m\u001b[0;34m:\u001b[0m  \u001b[0;31m# pylint: disable=broad-except\u001b[0m\u001b[0;34m\u001b[0m\u001b[0;34m\u001b[0m\u001b[0m\n\u001b[1;32m     66\u001b[0m       \u001b[0mfiltered_tb\u001b[0m \u001b[0;34m=\u001b[0m \u001b[0m_process_traceback_frames\u001b[0m\u001b[0;34m(\u001b[0m\u001b[0me\u001b[0m\u001b[0;34m.\u001b[0m\u001b[0m__traceback__\u001b[0m\u001b[0;34m)\u001b[0m\u001b[0;34m\u001b[0m\u001b[0;34m\u001b[0m\u001b[0m\n",
            "\u001b[0;32m/usr/local/lib/python3.7/dist-packages/keras/engine/training.py\u001b[0m in \u001b[0;36mfit\u001b[0;34m(self, x, y, batch_size, epochs, verbose, callbacks, validation_split, validation_data, shuffle, class_weight, sample_weight, initial_epoch, steps_per_epoch, validation_steps, validation_batch_size, validation_freq, max_queue_size, workers, use_multiprocessing)\u001b[0m\n\u001b[1;32m   1214\u001b[0m                 _r=1):\n\u001b[1;32m   1215\u001b[0m               \u001b[0mcallbacks\u001b[0m\u001b[0;34m.\u001b[0m\u001b[0mon_train_batch_begin\u001b[0m\u001b[0;34m(\u001b[0m\u001b[0mstep\u001b[0m\u001b[0;34m)\u001b[0m\u001b[0;34m\u001b[0m\u001b[0;34m\u001b[0m\u001b[0m\n\u001b[0;32m-> 1216\u001b[0;31m               \u001b[0mtmp_logs\u001b[0m \u001b[0;34m=\u001b[0m \u001b[0mself\u001b[0m\u001b[0;34m.\u001b[0m\u001b[0mtrain_function\u001b[0m\u001b[0;34m(\u001b[0m\u001b[0miterator\u001b[0m\u001b[0;34m)\u001b[0m\u001b[0;34m\u001b[0m\u001b[0;34m\u001b[0m\u001b[0m\n\u001b[0m\u001b[1;32m   1217\u001b[0m               \u001b[0;32mif\u001b[0m \u001b[0mdata_handler\u001b[0m\u001b[0;34m.\u001b[0m\u001b[0mshould_sync\u001b[0m\u001b[0;34m:\u001b[0m\u001b[0;34m\u001b[0m\u001b[0;34m\u001b[0m\u001b[0m\n\u001b[1;32m   1218\u001b[0m                 \u001b[0mcontext\u001b[0m\u001b[0;34m.\u001b[0m\u001b[0masync_wait\u001b[0m\u001b[0;34m(\u001b[0m\u001b[0;34m)\u001b[0m\u001b[0;34m\u001b[0m\u001b[0;34m\u001b[0m\u001b[0m\n",
            "\u001b[0;32m/usr/local/lib/python3.7/dist-packages/tensorflow/python/util/traceback_utils.py\u001b[0m in \u001b[0;36merror_handler\u001b[0;34m(*args, **kwargs)\u001b[0m\n\u001b[1;32m    148\u001b[0m     \u001b[0mfiltered_tb\u001b[0m \u001b[0;34m=\u001b[0m \u001b[0;32mNone\u001b[0m\u001b[0;34m\u001b[0m\u001b[0;34m\u001b[0m\u001b[0m\n\u001b[1;32m    149\u001b[0m     \u001b[0;32mtry\u001b[0m\u001b[0;34m:\u001b[0m\u001b[0;34m\u001b[0m\u001b[0;34m\u001b[0m\u001b[0m\n\u001b[0;32m--> 150\u001b[0;31m       \u001b[0;32mreturn\u001b[0m \u001b[0mfn\u001b[0m\u001b[0;34m(\u001b[0m\u001b[0;34m*\u001b[0m\u001b[0margs\u001b[0m\u001b[0;34m,\u001b[0m \u001b[0;34m**\u001b[0m\u001b[0mkwargs\u001b[0m\u001b[0;34m)\u001b[0m\u001b[0;34m\u001b[0m\u001b[0;34m\u001b[0m\u001b[0m\n\u001b[0m\u001b[1;32m    151\u001b[0m     \u001b[0;32mexcept\u001b[0m \u001b[0mException\u001b[0m \u001b[0;32mas\u001b[0m \u001b[0me\u001b[0m\u001b[0;34m:\u001b[0m\u001b[0;34m\u001b[0m\u001b[0;34m\u001b[0m\u001b[0m\n\u001b[1;32m    152\u001b[0m       \u001b[0mfiltered_tb\u001b[0m \u001b[0;34m=\u001b[0m \u001b[0m_process_traceback_frames\u001b[0m\u001b[0;34m(\u001b[0m\u001b[0me\u001b[0m\u001b[0;34m.\u001b[0m\u001b[0m__traceback__\u001b[0m\u001b[0;34m)\u001b[0m\u001b[0;34m\u001b[0m\u001b[0;34m\u001b[0m\u001b[0m\n",
            "\u001b[0;32m/usr/local/lib/python3.7/dist-packages/tensorflow/python/eager/def_function.py\u001b[0m in \u001b[0;36m__call__\u001b[0;34m(self, *args, **kwds)\u001b[0m\n\u001b[1;32m    908\u001b[0m \u001b[0;34m\u001b[0m\u001b[0m\n\u001b[1;32m    909\u001b[0m       \u001b[0;32mwith\u001b[0m \u001b[0mOptionalXlaContext\u001b[0m\u001b[0;34m(\u001b[0m\u001b[0mself\u001b[0m\u001b[0;34m.\u001b[0m\u001b[0m_jit_compile\u001b[0m\u001b[0;34m)\u001b[0m\u001b[0;34m:\u001b[0m\u001b[0;34m\u001b[0m\u001b[0;34m\u001b[0m\u001b[0m\n\u001b[0;32m--> 910\u001b[0;31m         \u001b[0mresult\u001b[0m \u001b[0;34m=\u001b[0m \u001b[0mself\u001b[0m\u001b[0;34m.\u001b[0m\u001b[0m_call\u001b[0m\u001b[0;34m(\u001b[0m\u001b[0;34m*\u001b[0m\u001b[0margs\u001b[0m\u001b[0;34m,\u001b[0m \u001b[0;34m**\u001b[0m\u001b[0mkwds\u001b[0m\u001b[0;34m)\u001b[0m\u001b[0;34m\u001b[0m\u001b[0;34m\u001b[0m\u001b[0m\n\u001b[0m\u001b[1;32m    911\u001b[0m \u001b[0;34m\u001b[0m\u001b[0m\n\u001b[1;32m    912\u001b[0m       \u001b[0mnew_tracing_count\u001b[0m \u001b[0;34m=\u001b[0m \u001b[0mself\u001b[0m\u001b[0;34m.\u001b[0m\u001b[0mexperimental_get_tracing_count\u001b[0m\u001b[0;34m(\u001b[0m\u001b[0;34m)\u001b[0m\u001b[0;34m\u001b[0m\u001b[0;34m\u001b[0m\u001b[0m\n",
            "\u001b[0;32m/usr/local/lib/python3.7/dist-packages/tensorflow/python/eager/def_function.py\u001b[0m in \u001b[0;36m_call\u001b[0;34m(self, *args, **kwds)\u001b[0m\n\u001b[1;32m    940\u001b[0m       \u001b[0;31m# In this case we have created variables on the first call, so we run the\u001b[0m\u001b[0;34m\u001b[0m\u001b[0;34m\u001b[0m\u001b[0;34m\u001b[0m\u001b[0m\n\u001b[1;32m    941\u001b[0m       \u001b[0;31m# defunned version which is guaranteed to never create variables.\u001b[0m\u001b[0;34m\u001b[0m\u001b[0;34m\u001b[0m\u001b[0;34m\u001b[0m\u001b[0m\n\u001b[0;32m--> 942\u001b[0;31m       \u001b[0;32mreturn\u001b[0m \u001b[0mself\u001b[0m\u001b[0;34m.\u001b[0m\u001b[0m_stateless_fn\u001b[0m\u001b[0;34m(\u001b[0m\u001b[0;34m*\u001b[0m\u001b[0margs\u001b[0m\u001b[0;34m,\u001b[0m \u001b[0;34m**\u001b[0m\u001b[0mkwds\u001b[0m\u001b[0;34m)\u001b[0m  \u001b[0;31m# pylint: disable=not-callable\u001b[0m\u001b[0;34m\u001b[0m\u001b[0;34m\u001b[0m\u001b[0m\n\u001b[0m\u001b[1;32m    943\u001b[0m     \u001b[0;32melif\u001b[0m \u001b[0mself\u001b[0m\u001b[0;34m.\u001b[0m\u001b[0m_stateful_fn\u001b[0m \u001b[0;32mis\u001b[0m \u001b[0;32mnot\u001b[0m \u001b[0;32mNone\u001b[0m\u001b[0;34m:\u001b[0m\u001b[0;34m\u001b[0m\u001b[0;34m\u001b[0m\u001b[0m\n\u001b[1;32m    944\u001b[0m       \u001b[0;31m# Release the lock early so that multiple threads can perform the call\u001b[0m\u001b[0;34m\u001b[0m\u001b[0;34m\u001b[0m\u001b[0;34m\u001b[0m\u001b[0m\n",
            "\u001b[0;32m/usr/local/lib/python3.7/dist-packages/tensorflow/python/eager/function.py\u001b[0m in \u001b[0;36m__call__\u001b[0;34m(self, *args, **kwargs)\u001b[0m\n\u001b[1;32m   3129\u001b[0m        filtered_flat_args) = self._maybe_define_function(args, kwargs)\n\u001b[1;32m   3130\u001b[0m     return graph_function._call_flat(\n\u001b[0;32m-> 3131\u001b[0;31m         filtered_flat_args, captured_inputs=graph_function.captured_inputs)  # pylint: disable=protected-access\n\u001b[0m\u001b[1;32m   3132\u001b[0m \u001b[0;34m\u001b[0m\u001b[0m\n\u001b[1;32m   3133\u001b[0m   \u001b[0;34m@\u001b[0m\u001b[0mproperty\u001b[0m\u001b[0;34m\u001b[0m\u001b[0;34m\u001b[0m\u001b[0m\n",
            "\u001b[0;32m/usr/local/lib/python3.7/dist-packages/tensorflow/python/eager/function.py\u001b[0m in \u001b[0;36m_call_flat\u001b[0;34m(self, args, captured_inputs, cancellation_manager)\u001b[0m\n\u001b[1;32m   1958\u001b[0m       \u001b[0;31m# No tape is watching; skip to running the function.\u001b[0m\u001b[0;34m\u001b[0m\u001b[0;34m\u001b[0m\u001b[0;34m\u001b[0m\u001b[0m\n\u001b[1;32m   1959\u001b[0m       return self._build_call_outputs(self._inference_function.call(\n\u001b[0;32m-> 1960\u001b[0;31m           ctx, args, cancellation_manager=cancellation_manager))\n\u001b[0m\u001b[1;32m   1961\u001b[0m     forward_backward = self._select_forward_and_backward_functions(\n\u001b[1;32m   1962\u001b[0m         \u001b[0margs\u001b[0m\u001b[0;34m,\u001b[0m\u001b[0;34m\u001b[0m\u001b[0;34m\u001b[0m\u001b[0m\n",
            "\u001b[0;32m/usr/local/lib/python3.7/dist-packages/tensorflow/python/eager/function.py\u001b[0m in \u001b[0;36mcall\u001b[0;34m(self, ctx, args, cancellation_manager)\u001b[0m\n\u001b[1;32m    601\u001b[0m               \u001b[0minputs\u001b[0m\u001b[0;34m=\u001b[0m\u001b[0margs\u001b[0m\u001b[0;34m,\u001b[0m\u001b[0;34m\u001b[0m\u001b[0;34m\u001b[0m\u001b[0m\n\u001b[1;32m    602\u001b[0m               \u001b[0mattrs\u001b[0m\u001b[0;34m=\u001b[0m\u001b[0mattrs\u001b[0m\u001b[0;34m,\u001b[0m\u001b[0;34m\u001b[0m\u001b[0;34m\u001b[0m\u001b[0m\n\u001b[0;32m--> 603\u001b[0;31m               ctx=ctx)\n\u001b[0m\u001b[1;32m    604\u001b[0m         \u001b[0;32melse\u001b[0m\u001b[0;34m:\u001b[0m\u001b[0;34m\u001b[0m\u001b[0;34m\u001b[0m\u001b[0m\n\u001b[1;32m    605\u001b[0m           outputs = execute.execute_with_cancellation(\n",
            "\u001b[0;32m/usr/local/lib/python3.7/dist-packages/tensorflow/python/eager/execute.py\u001b[0m in \u001b[0;36mquick_execute\u001b[0;34m(op_name, num_outputs, inputs, attrs, ctx, name)\u001b[0m\n\u001b[1;32m     57\u001b[0m     \u001b[0mctx\u001b[0m\u001b[0;34m.\u001b[0m\u001b[0mensure_initialized\u001b[0m\u001b[0;34m(\u001b[0m\u001b[0;34m)\u001b[0m\u001b[0;34m\u001b[0m\u001b[0;34m\u001b[0m\u001b[0m\n\u001b[1;32m     58\u001b[0m     tensors = pywrap_tfe.TFE_Py_Execute(ctx._handle, device_name, op_name,\n\u001b[0;32m---> 59\u001b[0;31m                                         inputs, attrs, num_outputs)\n\u001b[0m\u001b[1;32m     60\u001b[0m   \u001b[0;32mexcept\u001b[0m \u001b[0mcore\u001b[0m\u001b[0;34m.\u001b[0m\u001b[0m_NotOkStatusException\u001b[0m \u001b[0;32mas\u001b[0m \u001b[0me\u001b[0m\u001b[0;34m:\u001b[0m\u001b[0;34m\u001b[0m\u001b[0;34m\u001b[0m\u001b[0m\n\u001b[1;32m     61\u001b[0m     \u001b[0;32mif\u001b[0m \u001b[0mname\u001b[0m \u001b[0;32mis\u001b[0m \u001b[0;32mnot\u001b[0m \u001b[0;32mNone\u001b[0m\u001b[0;34m:\u001b[0m\u001b[0;34m\u001b[0m\u001b[0;34m\u001b[0m\u001b[0m\n",
            "\u001b[0;31mKeyboardInterrupt\u001b[0m: "
          ]
        }
      ]
    },
    {
      "cell_type": "markdown",
      "source": [
        "# Graficos de perdida en fit\n"
      ],
      "metadata": {
        "id": "Jd2HWzZp-GIh"
      }
    },
    {
      "cell_type": "code",
      "source": [
        "import matplotlib.pyplot as plt\n",
        "\n",
        "#metrics=['accuracy', metrics.Recall(), metrics.AUC()\n",
        "\n",
        "def plot_history(history, title='', axs=None, exp_name=\"\"):\n",
        "    if axs is not None:\n",
        "        ax1, ax2 = axs\n",
        "    else:\n",
        "        f, (ax1, ax2) = plt.subplots(1, 2, figsize=(12, 4))\n",
        "    \n",
        "    if len(exp_name) > 0 and exp_name[0] != '_':\n",
        "        exp_name = '_' + exp_name\n",
        "    ax1.plot(history.history['loss'], label='train' + exp_name)\n",
        "    ax1.plot(history.history['val_loss'], label='val' + exp_name)\n",
        "    #ax1.set_ylim(0., 2.2)\n",
        "    ax1.set_title('loss')\n",
        "    ax1.legend()\n",
        "\n",
        "    ax2.plot(history.history['accuracy'], label='train accuracy'  + exp_name)\n",
        "    ax2.plot(history.history['val_accuracy'], label='val accuracy'  + exp_name)\n",
        "    #ax2.set_ylim(0.25, 1.)\n",
        "    ax2.set_title('Accuracy')\n",
        "    ax2.legend()\n",
        "    return (ax1, ax2)"
      ],
      "metadata": {
        "id": "DLVaUD2KnaZo"
      },
      "execution_count": 97,
      "outputs": []
    },
    {
      "cell_type": "code",
      "source": [
        "plot_history(model_history, title='');"
      ],
      "metadata": {
        "id": "PSfaJtdFCOsu",
        "colab": {
          "base_uri": "https://localhost:8080/",
          "height": 281
        },
        "outputId": "5f5cd062-1cbc-484c-b0d3-ee5b360cf2f1"
      },
      "execution_count": 98,
      "outputs": [
        {
          "output_type": "display_data",
          "data": {
            "image/png": "[encoded data removed]",
            "text/plain": [
              "<Figure size 864x288 with 2 Axes>"
            ]
          },
          "metadata": {
            "needs_background": "light"
          }
        }
      ]
    },
    {
      "cell_type": "markdown",
      "source": [
        "# Evaluate"
      ],
      "metadata": {
        "id": "JPLVw14Q-P4s"
      }
    },
    {
      "cell_type": "markdown",
      "source": [
        "https://scikit-learn.org/stable/modules/generated/sklearn.metrics.classification_report.html"
      ],
      "metadata": {
        "id": "-iubt0vq-YkD"
      }
    },
    {
      "cell_type": "code",
      "source": [
        "model.evaluate(test_dataset, verbose=1)"
      ],
      "metadata": {
        "colab": {
          "base_uri": "https://localhost:8080/"
        },
        "id": "XbkM8jQk-S2f",
        "outputId": "fe7a6870-2bfe-42a2-f423-fec9056c4fc8"
      },
      "execution_count": 99,
      "outputs": [
        {
          "output_type": "stream",
          "name": "stdout",
          "text": [
            "14/14 [==============================] - 4s 288ms/step - loss: 1.1746 - accuracy: 0.4313\n"
          ]
        },
        {
          "output_type": "execute_result",
          "data": {
            "text/plain": [
              "[1.1746245622634888, 0.43125733733177185]"
            ]
          },
          "metadata": {},
          "execution_count": 99
        }
      ]
    },
    {
      "cell_type": "code",
      "source": [
        "pred = model.predict(test_dataset)\n",
        "pred"
      ],
      "metadata": {
        "colab": {
          "base_uri": "https://localhost:8080/"
        },
        "id": "SPJu36P_Da4y",
        "outputId": "96b5060c-caec-41be-c422-66844947619b"
      },
      "execution_count": 100,
      "outputs": [
        {
          "output_type": "execute_result",
          "data": {
            "text/plain": [
              "array([[5.3336298e-01, 4.4232064e-01, 2.2959527e-02, 1.3547536e-03,\n",
              "        2.0681730e-06],\n",
              "       [7.4368477e-01, 2.3161471e-01, 2.3593137e-02, 1.1054029e-03,\n",
              "        2.0831887e-06],\n",
              "       [2.0101595e-01, 7.3606879e-01, 4.6193421e-02, 1.6706590e-02,\n",
              "        1.5297999e-05],\n",
              "       ...,\n",
              "       [1.2406569e-03, 4.5979142e-04, 7.9161115e-02, 6.1111208e-02,\n",
              "        8.5802722e-01],\n",
              "       [3.7588269e-04, 2.0340452e-04, 7.8764357e-02, 7.0093364e-02,\n",
              "        8.5056299e-01],\n",
              "       [2.5467032e-05, 4.5715977e-05, 2.5882788e-02, 3.4524804e-01,\n",
              "        6.2879801e-01]], dtype=float32)"
            ]
          },
          "metadata": {},
          "execution_count": 100
        }
      ]
    },
    {
      "cell_type": "code",
      "source": [
        "y_pred = pred.argmax(axis=1)\n",
        "\n",
        "y_true = test_dataset.labels"
      ],
      "metadata": {
        "id": "tr4Omvb5MObd"
      },
      "execution_count": 101,
      "outputs": []
    },
    {
      "cell_type": "code",
      "source": [
        "from sklearn.metrics import classification_report\n",
        "\n",
        "print(classification_report(y_true, y_pred))"
      ],
      "metadata": {
        "colab": {
          "base_uri": "https://localhost:8080/"
        },
        "id": "8qkYu2BcZGWE",
        "outputId": "9035e020-f760-460e-ae14-73644b37a69c"
      },
      "execution_count": 102,
      "outputs": [
        {
          "output_type": "stream",
          "name": "stdout",
          "text": [
            "              precision    recall  f1-score   support\n",
            "\n",
            "           0       0.37      0.47      0.41       200\n",
            "           1       0.32      0.36      0.34       200\n",
            "           2       0.41      0.28      0.33       200\n",
            "           3       0.63      0.56      0.59       200\n",
            "           4       0.57      0.67      0.61        51\n",
            "\n",
            "    accuracy                           0.43       851\n",
            "   macro avg       0.46      0.47      0.46       851\n",
            "weighted avg       0.44      0.43      0.43       851\n",
            "\n"
          ]
        }
      ]
    }
  ]
}