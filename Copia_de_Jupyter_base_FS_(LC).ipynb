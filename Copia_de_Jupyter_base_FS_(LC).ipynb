{
  "nbformat": 4,
  "nbformat_minor": 0,
  "metadata": {
    "colab": {
      "name": "Copia de Jupyter_base FS (LC).ipynb",
      "provenance": [],
      "collapsed_sections": [],
      "include_colab_link": true
    },
    "kernelspec": {
      "name": "python3",
      "display_name": "Python 3"
    },
    "language_info": {
      "name": "python"
    },
    "accelerator": "GPU"
  },
  "cells": [
    {
      "cell_type": "markdown",
      "metadata": {
        "id": "view-in-github",
        "colab_type": "text"
      },
      "source": [
        "<a href=\"https://colab.research.google.com/github/leandrocino/KOA/blob/master/Copia_de_Jupyter_base_FS_(LC).ipynb\" target=\"_parent\"><img src=\"https://colab.research.google.com/assets/colab-badge.svg\" alt=\"Open In Colab\"/></a>"
      ]
    },
    {
      "cell_type": "markdown",
      "source": [
        "# Cargar la data y preprocesarla.\n",
        "\n"
      ],
      "metadata": {
        "id": "88tyn51qPiSD"
      }
    },
    {
      "cell_type": "code",
      "source": [
        "\"\"\"Con esto montan el drive al colab.\"\"\"\n",
        "from google.colab import drive\n",
        "\n",
        "drive.mount('/content/drive/')"
      ],
      "metadata": {
        "colab": {
          "base_uri": "https://localhost:8080/"
        },
        "id": "jSiUAUg7VmRA",
        "outputId": "2c838224-0078-4b8e-8e26-bf92659d8073"
      },
      "execution_count": 1,
      "outputs": [
        {
          "output_type": "stream",
          "name": "stdout",
          "text": [
            "Mounted at /content/drive/\n"
          ]
        }
      ]
    },
    {
      "cell_type": "code",
      "source": [
        ""
      ],
      "metadata": {
        "id": "_28KZbFvCljU"
      },
      "execution_count": null,
      "outputs": []
    },
    {
      "cell_type": "code",
      "source": [
        "#si necesito correr el modelo con SOLO 200 IMAGENES\n",
        "#path = '/content/drive/MyDrive/Data_koa'\n",
        "\n",
        "#correr con todo el dataset full\n",
        "path = '/content/drive/MyDrive/Data_koa/Old_Data_with_Kaggle_Format'\n",
        "path_train = '/content/drive/MyDrive/Data_koa/Old_Data_with_Kaggle_Format/train'\n",
        "path_validation = '/content/drive/MyDrive/Data_koa/Old_Data_with_Kaggle_Format/val'\n",
        "path_test = '/content/drive/MyDrive/Data_koa/Old_Data_with_Kaggle_Format/test'\n",
        "\n",
        "#si necesito correr el modelo con TODAS las IMAGENES\n",
        "#path_train_allimages = '/content/drive/MyDrive/Data_koa/train'\n",
        "#path_validation_allimages = '/content/drive/MyDrive/Data_koa/val'\n",
        "#path_test_allimages = '/content/drive/MyDrive/Data_koa/test'\n"
      ],
      "metadata": {
        "id": "_TGmrbqWV7K7"
      },
      "execution_count": 2,
      "outputs": []
    },
    {
      "cell_type": "markdown",
      "source": [
        "## Variables.\n"
      ],
      "metadata": {
        "id": "qPKGN1mGSR2m"
      }
    },
    {
      "cell_type": "code",
      "source": [
        "\"\"\" Seleccionar la cantidad de imagenes que se quieren cargar\"\"\"\n",
        "#n_img = 50\n",
        "\"\"\" Seleccionar el tamaño de los batches\"\"\"\n",
        "batch_size = 64\n",
        "\"\"\"Tamaño de img\"\"\"\n",
        "height = 224\n",
        "width = 224\n",
        "\"\"\"Generador de aleatoreidad\"\"\"\n",
        "seed = None\n",
        "\"\"\"Guardar imagenes transformadas\"\"\"\n",
        "save_to_dir = None\n",
        "\"\"\"Preprocesado \"\"\"\n",
        "preprocessing_function = None"
      ],
      "metadata": {
        "id": "26xxloVtQImu"
      },
      "execution_count": 3,
      "outputs": []
    },
    {
      "cell_type": "markdown",
      "source": [
        "## Codigo Keras preoprocessing image generator\n"
      ],
      "metadata": {
        "id": "UELPDchXSZ1s"
      }
    },
    {
      "cell_type": "code",
      "source": [
        "from tensorflow.keras.preprocessing.image import ImageDataGenerator\n",
        "from tensorflow.keras.applications.vgg16 import preprocess_input\n",
        "\n",
        "# image_generator SIN FILTROS\n",
        "image_generator_SF = ImageDataGenerator(rescale=1./255,    \n",
        "                                     preprocessing_function = None, \n",
        "                                     #horizontal_flip=True, \n",
        "                                     #vertical_flip=True,\n",
        "                                     #zoom_range=0.2\n",
        "                                     )  \n",
        "\n",
        "# image_generator CON FILTROS\n",
        "image_generator_CF = ImageDataGenerator(rescale=1./255,    \n",
        "                                     preprocessing_function = None, \n",
        "                                     horizontal_flip=True, \n",
        "                                     vertical_flip=True,\n",
        "                                     zoom_range=0.2\n",
        "                                     )  \n",
        "\n",
        "\n",
        "train_dataset = image_generator_CF.flow_from_directory(batch_size=batch_size,\n",
        "                                                    directory=path_train,\n",
        "                                                    shuffle=False,\n",
        "                                                    seed=seed,\n",
        "                                                    target_size=(width, height), \n",
        "                                                    #subset=\"training\",\n",
        "                                                    class_mode='categorical')\n",
        "\n",
        "test_dataset = image_generator_SF.flow_from_directory(batch_size=batch_size,\n",
        "                                                 directory=path_test,\n",
        "                                                 shuffle=False,\n",
        "                                                 seed=seed,\n",
        "                                                 target_size=(width, height), \n",
        "                                                 #subset=\"validation\",\n",
        "                                                 class_mode='categorical')\n",
        "\n",
        "validation_dataset = image_generator_SF.flow_from_directory(batch_size=batch_size,\n",
        "                                                 directory=path_validation,\n",
        "                                                 shuffle=False,\n",
        "                                                 seed=seed,\n",
        "                                                 target_size=( width, height), \n",
        "                                                 #subset=\"validation\",\n",
        "                                                 class_mode='categorical')\n",
        "\n"
      ],
      "metadata": {
        "colab": {
          "base_uri": "https://localhost:8080/"
        },
        "id": "48wTtgS0faFn",
        "outputId": "e6b93fa0-8c91-41cf-963c-f327d9c5ae46"
      },
      "execution_count": 4,
      "outputs": [
        {
          "output_type": "stream",
          "name": "stdout",
          "text": [
            "Found 5788 images belonging to 5 classes.\n",
            "Found 1656 images belonging to 5 classes.\n",
            "Found 826 images belonging to 5 classes.\n"
          ]
        }
      ]
    },
    {
      "cell_type": "code",
      "source": [
        "train_dataset[0][0][0].shape"
      ],
      "metadata": {
        "colab": {
          "base_uri": "https://localhost:8080/"
        },
        "id": "MS0B-z9CyEmy",
        "outputId": "8c45ab98-606f-4541-e549-c52fd8d19919"
      },
      "execution_count": 5,
      "outputs": [
        {
          "output_type": "execute_result",
          "data": {
            "text/plain": [
              "(224, 224, 3)"
            ]
          },
          "metadata": {},
          "execution_count": 5
        }
      ]
    },
    {
      "cell_type": "code",
      "source": [
        "train_dataset[0][0][0] "
      ],
      "metadata": {
        "colab": {
          "base_uri": "https://localhost:8080/"
        },
        "id": "Nq4GSAgXyRvp",
        "outputId": "4c465537-7be2-4231-d055-78c6b867c712"
      },
      "execution_count": 6,
      "outputs": [
        {
          "output_type": "execute_result",
          "data": {
            "text/plain": [
              "array([[[0.33900493, 0.33900493, 0.33900493],\n",
              "        [0.33900493, 0.33900493, 0.33900493],\n",
              "        [0.33900493, 0.33900493, 0.33900493],\n",
              "        ...,\n",
              "        [0.26232353, 0.26232353, 0.26232353],\n",
              "        [0.26232353, 0.26232353, 0.26232353],\n",
              "        [0.26232353, 0.26232353, 0.26232353]],\n",
              "\n",
              "       [[0.33877975, 0.33877975, 0.33877975],\n",
              "        [0.33877975, 0.33877975, 0.33877975],\n",
              "        [0.33877975, 0.33877975, 0.33877975],\n",
              "        ...,\n",
              "        [0.2572987 , 0.2572987 , 0.2572987 ],\n",
              "        [0.2572987 , 0.2572987 , 0.2572987 ],\n",
              "        [0.2572987 , 0.2572987 , 0.2572987 ]],\n",
              "\n",
              "       [[0.3402984 , 0.3402984 , 0.3402984 ],\n",
              "        [0.3402984 , 0.3402984 , 0.3402984 ],\n",
              "        [0.3402984 , 0.3402984 , 0.3402984 ],\n",
              "        ...,\n",
              "        [0.2540239 , 0.2540239 , 0.2540239 ],\n",
              "        [0.2540239 , 0.2540239 , 0.2540239 ],\n",
              "        [0.2540239 , 0.2540239 , 0.2540239 ]],\n",
              "\n",
              "       ...,\n",
              "\n",
              "       [[0.14551349, 0.14551349, 0.14551349],\n",
              "        [0.14551349, 0.14551349, 0.14551349],\n",
              "        [0.14551349, 0.14551349, 0.14551349],\n",
              "        ...,\n",
              "        [0.2509804 , 0.2509804 , 0.2509804 ],\n",
              "        [0.2509804 , 0.2509804 , 0.2509804 ],\n",
              "        [0.2509804 , 0.2509804 , 0.2509804 ]],\n",
              "\n",
              "       [[0.14878832, 0.14878832, 0.14878832],\n",
              "        [0.14878832, 0.14878832, 0.14878832],\n",
              "        [0.14878832, 0.14878832, 0.14878832],\n",
              "        ...,\n",
              "        [0.2509804 , 0.2509804 , 0.2509804 ],\n",
              "        [0.2509804 , 0.2509804 , 0.2509804 ],\n",
              "        [0.2509804 , 0.2509804 , 0.2509804 ]],\n",
              "\n",
              "       [[0.14597611, 0.14597611, 0.14597611],\n",
              "        [0.14597611, 0.14597611, 0.14597611],\n",
              "        [0.14597611, 0.14597611, 0.14597611],\n",
              "        ...,\n",
              "        [0.2540239 , 0.2540239 , 0.2540239 ],\n",
              "        [0.2540239 , 0.2540239 , 0.2540239 ],\n",
              "        [0.2540239 , 0.2540239 , 0.2540239 ]]], dtype=float32)"
            ]
          },
          "metadata": {},
          "execution_count": 6
        }
      ]
    },
    {
      "cell_type": "code",
      "source": [
        "import matplotlib.pyplot as plt\n",
        "plt.imshow(train_dataset[0][0][26])"
      ],
      "metadata": {
        "colab": {
          "base_uri": "https://localhost:8080/",
          "height": 286
        },
        "id": "b8vKRjctyKm4",
        "outputId": "af4789fa-728f-44b6-9883-4fca86f26eb7"
      },
      "execution_count": 7,
      "outputs": [
        {
          "output_type": "execute_result",
          "data": {
            "text/plain": [
              "<matplotlib.image.AxesImage at 0x7eff2da0ca50>"
            ]
          },
          "metadata": {},
          "execution_count": 7
        },
        {
          "output_type": "display_data",
          "data": {
            "image/png": "[encoded data removed]",
            "text/plain": [
              "<Figure size 432x288 with 1 Axes>"
            ]
          },
          "metadata": {
            "needs_background": "light"
          }
        }
      ]
    },
    {
      "cell_type": "markdown",
      "source": [
        "# Instanciar el modelo."
      ],
      "metadata": {
        "id": "41j_uIJ4QMim"
      }
    },
    {
      "cell_type": "markdown",
      "source": [
        "##    Variables.\n"
      ],
      "metadata": {
        "id": "r8wuoJqRR5Cq"
      }
    },
    {
      "cell_type": "code",
      "source": [
        "\"\"\"Modelos base\"\"\"\n",
        "\n",
        "#from tensorflow.keras.applications import InceptionV3\n",
        "#model = 'InceptionV3'\n",
        "#base_model_InceptionV3 = InceptionV3(include_top=False, weights='imagenet', input_shape=(width,height,3))\n",
        "#base_model_InceptionV3.trainable=False\n",
        "\n",
        "\n",
        "#from tensorflow.keras.applications import VGG16\n",
        "#from tensorflow.keras.applications.vgg16 import preprocess_input \n",
        "#model = 'VGG16'\n",
        "#base_model_VGG16 = VGG16(include_top=False, weights='imagenet', input_tensor=None, input_shape=(width,height,3), pooling=None, classes=1000, classifier_activation='softmax')\n",
        "#base_model_VGG16.trainable=False\n",
        "\n",
        "\n",
        "from tensorflow.keras.applications import DenseNet201\n",
        "model = 'DenseNet201'\n",
        "base_model_DenseNet201 = DenseNet201(include_top=False, weights='imagenet', input_tensor=None, input_shape=(width,height,3), pooling=None, classes=1000)\n",
        "base_model_DenseNet201.trainable=False\n",
        "\n",
        "\n",
        "#defino las EPOCHs\n",
        "epoch = 100\n",
        "\n",
        "from tensorflow.keras import layers, models, metrics\n",
        "from tensorflow.keras import Sequential\n",
        "from tensorflow.keras.callbacks import EarlyStopping\n",
        "from tensorflow.keras import regularizers"
      ],
      "metadata": {
        "id": "z0dTeXeQR_Yh",
        "colab": {
          "base_uri": "https://localhost:8080/"
        },
        "outputId": "9346ba49-e6b0-49f5-9ae3-e678ece231b5"
      },
      "execution_count": 8,
      "outputs": [
        {
          "output_type": "stream",
          "name": "stdout",
          "text": [
            "Downloading data from https://storage.googleapis.com/tensorflow/keras-applications/densenet/densenet201_weights_tf_dim_ordering_tf_kernels_notop.h5\n",
            "74842112/74836368 [==============================] - 3s 0us/step\n",
            "74850304/74836368 [==============================] - 3s 0us/step\n"
          ]
        }
      ]
    },
    {
      "cell_type": "markdown",
      "source": [
        "## Modelo"
      ],
      "metadata": {
        "id": "WxK8Kq-4Skwm"
      }
    },
    {
      "cell_type": "code",
      "source": [
        "def load_model():\n",
        "    \n",
        "    \"\"\"Transfer learning\"\"\"\n",
        "    #traigo en model el modelo base que deseo utilizar\n",
        "    model = base_model_DenseNet201\n",
        "    \n",
        "    \"\"\"Additional layers\"\"\"\n",
        "    #model.add(layers.Conv2D(filters=32, kernel_size=(3,3),\n",
        "    #              activation='relu', input_shape=(width, height, 3), padding='same'))\n",
        "    \n",
        "    #model.add(layers.Conv2D(filters=32, kernel_size=(3,3), activation='relu', padding='same'))\n",
        "    \n",
        "    #model.add(layers.MaxPool2D(pool_size=(2,2)))\n",
        "    \n",
        "    #model.add(layers.Dropout(0.5))\n",
        "    \n",
        "    #model.add(layers.Dense(64, activation='relu',\n",
        "    #              kernel_regularizer = regularizers.l2(l=0.1)))\n",
        "    \n",
        "    \"\"\"Additional layers\"\"\"\n",
        "    flattening_layer = layers.Flatten()\n",
        "    dense_layer = layers.Dense(500, activation='relu')\n",
        "    prediction_layer = layers.Dense(5, activation='softmax')\n",
        "    \n",
        "    model = Sequential([\n",
        "    #base_model_InceptionV3,\n",
        "    #base_model_VGG16,\n",
        "    base_model_DenseNet201,\n",
        "    flattening_layer,\n",
        "    dense_layer,\n",
        "    prediction_layer\n",
        "    ])\n",
        "    \n",
        "    \"\"\"Prediction layer\"\"\"\n",
        "    #model.add(layers.Dense(5, activation='softmax'))        \n",
        "   \n",
        "    \"\"\"Model Compile\"\"\"\n",
        "\n",
        "    model.compile(loss='categorical_crossentropy',\n",
        "                  optimizer='adamax', #no olvidarse de probar tambien ADAM/ADAMAX\n",
        "                  metrics=['accuracy']  \n",
        "                  )\n",
        "    return model"
      ],
      "metadata": {
        "id": "eTgzNvqZSrN6"
      },
      "execution_count": 9,
      "outputs": []
    },
    {
      "cell_type": "code",
      "source": [
        "model = load_model()"
      ],
      "metadata": {
        "id": "IR63YzbF96Qj"
      },
      "execution_count": 10,
      "outputs": []
    },
    {
      "cell_type": "code",
      "source": [
        "\"\"\"Model Fit\"\"\"\n",
        "Es = EarlyStopping(patience=30, restore_best_weights=True)\n",
        "model_history = model.fit(train_dataset, \n",
        "                    validation_data = validation_dataset,\n",
        "                    epochs=epoch, \n",
        "                    verbose=1,\n",
        "                    callbacks=[Es]\n",
        "                    )"
      ],
      "metadata": {
        "colab": {
          "base_uri": "https://localhost:8080/"
        },
        "id": "_QhLcJxiL1sk",
        "outputId": "598c8875-be9a-43f9-f544-4d90bbf6d53c"
      },
      "execution_count": 11,
      "outputs": [
        {
          "output_type": "stream",
          "name": "stdout",
          "text": [
            "Epoch 1/100\n",
            "91/91 [==============================] - 2244s 24s/step - loss: 17.9639 - accuracy: 0.3718 - val_loss: 1.3663 - val_accuracy: 0.4116\n",
            "Epoch 2/100\n",
            "91/91 [==============================] - 108s 1s/step - loss: 1.4456 - accuracy: 0.3896 - val_loss: 1.4482 - val_accuracy: 0.1973\n",
            "Epoch 3/100\n",
            "91/91 [==============================] - 109s 1s/step - loss: 1.4421 - accuracy: 0.3808 - val_loss: 1.1990 - val_accuracy: 0.4891\n",
            "Epoch 4/100\n",
            "91/91 [==============================] - 108s 1s/step - loss: 1.3863 - accuracy: 0.4485 - val_loss: 1.1954 - val_accuracy: 0.4806\n",
            "Epoch 5/100\n",
            "91/91 [==============================] - 108s 1s/step - loss: 1.2893 - accuracy: 0.4449 - val_loss: 1.2034 - val_accuracy: 0.4806\n",
            "Epoch 6/100\n",
            "91/91 [==============================] - 108s 1s/step - loss: 1.2425 - accuracy: 0.4673 - val_loss: 1.1570 - val_accuracy: 0.4964\n",
            "Epoch 7/100\n",
            "91/91 [==============================] - 107s 1s/step - loss: 1.2735 - accuracy: 0.4553 - val_loss: 1.3421 - val_accuracy: 0.4201\n",
            "Epoch 8/100\n",
            "91/91 [==============================] - 106s 1s/step - loss: 1.2220 - accuracy: 0.4708 - val_loss: 1.1987 - val_accuracy: 0.4431\n",
            "Epoch 9/100\n",
            "91/91 [==============================] - 108s 1s/step - loss: 1.2142 - accuracy: 0.4739 - val_loss: 1.2449 - val_accuracy: 0.4249\n",
            "Epoch 10/100\n",
            "91/91 [==============================] - 107s 1s/step - loss: 1.2474 - accuracy: 0.4729 - val_loss: 1.2912 - val_accuracy: 0.4540\n",
            "Epoch 11/100\n",
            "91/91 [==============================] - 108s 1s/step - loss: 1.2936 - accuracy: 0.3865 - val_loss: 1.2128 - val_accuracy: 0.4370\n",
            "Epoch 12/100\n",
            "91/91 [==============================] - 107s 1s/step - loss: 1.2044 - accuracy: 0.4869 - val_loss: 1.1869 - val_accuracy: 0.4734\n",
            "Epoch 13/100\n",
            "91/91 [==============================] - 107s 1s/step - loss: 1.2164 - accuracy: 0.4665 - val_loss: 1.2162 - val_accuracy: 0.4540\n",
            "Epoch 14/100\n",
            "91/91 [==============================] - 108s 1s/step - loss: 1.1489 - accuracy: 0.5055 - val_loss: 1.2343 - val_accuracy: 0.4831\n",
            "Epoch 15/100\n",
            "91/91 [==============================] - 108s 1s/step - loss: 1.2008 - accuracy: 0.4642 - val_loss: 1.1547 - val_accuracy: 0.4988\n",
            "Epoch 16/100\n",
            "91/91 [==============================] - 108s 1s/step - loss: 1.1460 - accuracy: 0.5150 - val_loss: 1.1270 - val_accuracy: 0.5012\n",
            "Epoch 17/100\n",
            "91/91 [==============================] - 109s 1s/step - loss: 1.1342 - accuracy: 0.5081 - val_loss: 1.2479 - val_accuracy: 0.4443\n",
            "Epoch 18/100\n",
            "91/91 [==============================] - 109s 1s/step - loss: 1.1648 - accuracy: 0.5029 - val_loss: 1.1966 - val_accuracy: 0.4613\n",
            "Epoch 19/100\n",
            "91/91 [==============================] - 108s 1s/step - loss: 1.1310 - accuracy: 0.5140 - val_loss: 1.1351 - val_accuracy: 0.5012\n",
            "Epoch 20/100\n",
            "91/91 [==============================] - 107s 1s/step - loss: 1.1600 - accuracy: 0.5040 - val_loss: 1.1153 - val_accuracy: 0.5109\n",
            "Epoch 21/100\n",
            "91/91 [==============================] - 106s 1s/step - loss: 1.1542 - accuracy: 0.4965 - val_loss: 1.1499 - val_accuracy: 0.5048\n",
            "Epoch 22/100\n",
            "91/91 [==============================] - 107s 1s/step - loss: 1.1356 - accuracy: 0.5100 - val_loss: 1.2943 - val_accuracy: 0.4540\n",
            "Epoch 23/100\n",
            "91/91 [==============================] - 107s 1s/step - loss: 1.1438 - accuracy: 0.5048 - val_loss: 1.1213 - val_accuracy: 0.4891\n",
            "Epoch 24/100\n",
            "91/91 [==============================] - 106s 1s/step - loss: 1.0739 - accuracy: 0.5352 - val_loss: 1.5102 - val_accuracy: 0.4395\n",
            "Epoch 25/100\n",
            "91/91 [==============================] - 107s 1s/step - loss: 1.1578 - accuracy: 0.5176 - val_loss: 1.1714 - val_accuracy: 0.4588\n",
            "Epoch 26/100\n",
            "91/91 [==============================] - 106s 1s/step - loss: 1.1259 - accuracy: 0.5328 - val_loss: 1.2668 - val_accuracy: 0.4492\n",
            "Epoch 27/100\n",
            "91/91 [==============================] - 106s 1s/step - loss: 1.1634 - accuracy: 0.4974 - val_loss: 1.1757 - val_accuracy: 0.4576\n",
            "Epoch 28/100\n",
            "91/91 [==============================] - 105s 1s/step - loss: 1.0982 - accuracy: 0.5197 - val_loss: 1.1252 - val_accuracy: 0.5048\n",
            "Epoch 29/100\n",
            "91/91 [==============================] - 105s 1s/step - loss: 1.0764 - accuracy: 0.5278 - val_loss: 1.1002 - val_accuracy: 0.5157\n",
            "Epoch 30/100\n",
            "91/91 [==============================] - 104s 1s/step - loss: 1.1076 - accuracy: 0.5107 - val_loss: 1.1997 - val_accuracy: 0.4782\n",
            "Epoch 31/100\n",
            "91/91 [==============================] - 105s 1s/step - loss: 1.0965 - accuracy: 0.5185 - val_loss: 1.0703 - val_accuracy: 0.5351\n",
            "Epoch 32/100\n",
            "91/91 [==============================] - 104s 1s/step - loss: 1.1426 - accuracy: 0.4981 - val_loss: 1.1660 - val_accuracy: 0.4649\n",
            "Epoch 33/100\n",
            "91/91 [==============================] - 105s 1s/step - loss: 1.0800 - accuracy: 0.5389 - val_loss: 1.1113 - val_accuracy: 0.5206\n",
            "Epoch 34/100\n",
            "91/91 [==============================] - 105s 1s/step - loss: 1.0994 - accuracy: 0.5173 - val_loss: 1.1153 - val_accuracy: 0.4927\n",
            "Epoch 35/100\n",
            "91/91 [==============================] - 107s 1s/step - loss: 1.1059 - accuracy: 0.5214 - val_loss: 1.1095 - val_accuracy: 0.5327\n",
            "Epoch 36/100\n",
            "91/91 [==============================] - 106s 1s/step - loss: 1.0779 - accuracy: 0.5370 - val_loss: 1.1374 - val_accuracy: 0.4927\n",
            "Epoch 37/100\n",
            "91/91 [==============================] - 105s 1s/step - loss: 1.0841 - accuracy: 0.5270 - val_loss: 1.0869 - val_accuracy: 0.5291\n",
            "Epoch 38/100\n",
            "91/91 [==============================] - 105s 1s/step - loss: 1.0792 - accuracy: 0.5541 - val_loss: 1.0763 - val_accuracy: 0.5278\n",
            "Epoch 39/100\n",
            "91/91 [==============================] - 105s 1s/step - loss: 1.0860 - accuracy: 0.5356 - val_loss: 1.0714 - val_accuracy: 0.5460\n",
            "Epoch 40/100\n",
            "91/91 [==============================] - 105s 1s/step - loss: 1.0997 - accuracy: 0.5320 - val_loss: 1.0847 - val_accuracy: 0.5206\n",
            "Epoch 41/100\n",
            "91/91 [==============================] - 105s 1s/step - loss: 1.0501 - accuracy: 0.5532 - val_loss: 1.1423 - val_accuracy: 0.5036\n",
            "Epoch 42/100\n",
            "91/91 [==============================] - 105s 1s/step - loss: 1.0671 - accuracy: 0.5416 - val_loss: 1.0504 - val_accuracy: 0.5387\n",
            "Epoch 43/100\n",
            "91/91 [==============================] - 104s 1s/step - loss: 1.0933 - accuracy: 0.5264 - val_loss: 1.0457 - val_accuracy: 0.5375\n",
            "Epoch 44/100\n",
            "91/91 [==============================] - 103s 1s/step - loss: 1.0963 - accuracy: 0.5259 - val_loss: 1.2503 - val_accuracy: 0.4540\n",
            "Epoch 45/100\n",
            "91/91 [==============================] - 103s 1s/step - loss: 1.0851 - accuracy: 0.5309 - val_loss: 1.0626 - val_accuracy: 0.5278\n",
            "Epoch 46/100\n",
            "91/91 [==============================] - 102s 1s/step - loss: 1.0497 - accuracy: 0.5442 - val_loss: 1.3022 - val_accuracy: 0.4661\n",
            "Epoch 47/100\n",
            "91/91 [==============================] - 101s 1s/step - loss: 1.1270 - accuracy: 0.5161 - val_loss: 1.1494 - val_accuracy: 0.4903\n",
            "Epoch 48/100\n",
            "91/91 [==============================] - 104s 1s/step - loss: 1.0597 - accuracy: 0.5356 - val_loss: 1.1790 - val_accuracy: 0.4952\n",
            "Epoch 49/100\n",
            "91/91 [==============================] - 103s 1s/step - loss: 1.0651 - accuracy: 0.5451 - val_loss: 1.0583 - val_accuracy: 0.5387\n",
            "Epoch 50/100\n",
            "91/91 [==============================] - 104s 1s/step - loss: 1.0505 - accuracy: 0.5437 - val_loss: 1.0528 - val_accuracy: 0.5375\n",
            "Epoch 51/100\n",
            "91/91 [==============================] - 103s 1s/step - loss: 1.0462 - accuracy: 0.5608 - val_loss: 1.1314 - val_accuracy: 0.5097\n",
            "Epoch 52/100\n",
            "91/91 [==============================] - 104s 1s/step - loss: 1.1247 - accuracy: 0.5136 - val_loss: 1.0619 - val_accuracy: 0.5315\n",
            "Epoch 53/100\n",
            "91/91 [==============================] - 104s 1s/step - loss: 1.0454 - accuracy: 0.5511 - val_loss: 1.0494 - val_accuracy: 0.5508\n",
            "Epoch 54/100\n",
            "91/91 [==============================] - 104s 1s/step - loss: 1.0459 - accuracy: 0.5549 - val_loss: 1.0441 - val_accuracy: 0.5375\n",
            "Epoch 55/100\n",
            "91/91 [==============================] - 103s 1s/step - loss: 1.0288 - accuracy: 0.5594 - val_loss: 1.0940 - val_accuracy: 0.5230\n",
            "Epoch 56/100\n",
            "91/91 [==============================] - 103s 1s/step - loss: 1.1047 - accuracy: 0.5218 - val_loss: 1.1142 - val_accuracy: 0.4964\n",
            "Epoch 57/100\n",
            "91/91 [==============================] - 103s 1s/step - loss: 0.9966 - accuracy: 0.5859 - val_loss: 1.4210 - val_accuracy: 0.4395\n",
            "Epoch 58/100\n",
            "91/91 [==============================] - 103s 1s/step - loss: 1.0525 - accuracy: 0.5498 - val_loss: 1.0462 - val_accuracy: 0.5460\n",
            "Epoch 59/100\n",
            "91/91 [==============================] - 102s 1s/step - loss: 1.0485 - accuracy: 0.5539 - val_loss: 1.0761 - val_accuracy: 0.5278\n",
            "Epoch 60/100\n",
            "91/91 [==============================] - 103s 1s/step - loss: 1.0365 - accuracy: 0.5589 - val_loss: 1.2503 - val_accuracy: 0.4843\n",
            "Epoch 61/100\n",
            "91/91 [==============================] - 102s 1s/step - loss: 1.0540 - accuracy: 0.5522 - val_loss: 1.0450 - val_accuracy: 0.5472\n",
            "Epoch 62/100\n",
            "91/91 [==============================] - 102s 1s/step - loss: 1.0571 - accuracy: 0.5570 - val_loss: 1.0746 - val_accuracy: 0.5351\n",
            "Epoch 63/100\n",
            "91/91 [==============================] - 103s 1s/step - loss: 1.0699 - accuracy: 0.5418 - val_loss: 1.0526 - val_accuracy: 0.5363\n",
            "Epoch 64/100\n",
            "91/91 [==============================] - 103s 1s/step - loss: 1.0329 - accuracy: 0.5568 - val_loss: 1.0391 - val_accuracy: 0.5412\n",
            "Epoch 65/100\n",
            "91/91 [==============================] - 102s 1s/step - loss: 1.0458 - accuracy: 0.5446 - val_loss: 1.0619 - val_accuracy: 0.5436\n",
            "Epoch 66/100\n",
            "91/91 [==============================] - 103s 1s/step - loss: 1.0266 - accuracy: 0.5634 - val_loss: 1.1413 - val_accuracy: 0.5145\n",
            "Epoch 67/100\n",
            "91/91 [==============================] - 107s 1s/step - loss: 1.0440 - accuracy: 0.5574 - val_loss: 1.0696 - val_accuracy: 0.5412\n",
            "Epoch 68/100\n",
            "91/91 [==============================] - 104s 1s/step - loss: 1.1121 - accuracy: 0.5299 - val_loss: 1.0422 - val_accuracy: 0.5363\n",
            "Epoch 69/100\n",
            "91/91 [==============================] - 105s 1s/step - loss: 1.0039 - accuracy: 0.5810 - val_loss: 1.0569 - val_accuracy: 0.5291\n",
            "Epoch 70/100\n",
            "91/91 [==============================] - 105s 1s/step - loss: 1.0532 - accuracy: 0.5506 - val_loss: 1.0343 - val_accuracy: 0.5436\n",
            "Epoch 71/100\n",
            "91/91 [==============================] - 105s 1s/step - loss: 1.0136 - accuracy: 0.5629 - val_loss: 1.0306 - val_accuracy: 0.5387\n",
            "Epoch 72/100\n",
            "91/91 [==============================] - 105s 1s/step - loss: 0.9972 - accuracy: 0.5696 - val_loss: 1.2175 - val_accuracy: 0.5109\n",
            "Epoch 73/100\n",
            "91/91 [==============================] - 104s 1s/step - loss: 1.0443 - accuracy: 0.5484 - val_loss: 1.1073 - val_accuracy: 0.5363\n",
            "Epoch 74/100\n",
            "91/91 [==============================] - 105s 1s/step - loss: 1.0165 - accuracy: 0.5644 - val_loss: 1.0659 - val_accuracy: 0.5339\n",
            "Epoch 75/100\n",
            "91/91 [==============================] - 106s 1s/step - loss: 1.0464 - accuracy: 0.5593 - val_loss: 1.0458 - val_accuracy: 0.5327\n",
            "Epoch 76/100\n",
            "91/91 [==============================] - 106s 1s/step - loss: 1.0162 - accuracy: 0.5638 - val_loss: 1.0968 - val_accuracy: 0.5194\n",
            "Epoch 77/100\n",
            "91/91 [==============================] - 105s 1s/step - loss: 1.0471 - accuracy: 0.5479 - val_loss: 1.0391 - val_accuracy: 0.5436\n",
            "Epoch 78/100\n",
            "91/91 [==============================] - 105s 1s/step - loss: 0.9976 - accuracy: 0.5798 - val_loss: 1.0859 - val_accuracy: 0.5484\n",
            "Epoch 79/100\n",
            "91/91 [==============================] - 104s 1s/step - loss: 1.0238 - accuracy: 0.5638 - val_loss: 1.1675 - val_accuracy: 0.5012\n",
            "Epoch 80/100\n",
            "91/91 [==============================] - 104s 1s/step - loss: 1.0098 - accuracy: 0.5772 - val_loss: 1.0513 - val_accuracy: 0.5291\n",
            "Epoch 81/100\n",
            "91/91 [==============================] - 104s 1s/step - loss: 1.0167 - accuracy: 0.5667 - val_loss: 1.0775 - val_accuracy: 0.5400\n",
            "Epoch 82/100\n",
            "91/91 [==============================] - 104s 1s/step - loss: 1.0218 - accuracy: 0.5650 - val_loss: 1.0360 - val_accuracy: 0.5424\n",
            "Epoch 83/100\n",
            "91/91 [==============================] - 103s 1s/step - loss: 1.0140 - accuracy: 0.5688 - val_loss: 1.0318 - val_accuracy: 0.5521\n",
            "Epoch 84/100\n",
            "91/91 [==============================] - 102s 1s/step - loss: 1.0137 - accuracy: 0.5688 - val_loss: 1.1211 - val_accuracy: 0.5315\n",
            "Epoch 85/100\n",
            "91/91 [==============================] - 103s 1s/step - loss: 1.0111 - accuracy: 0.5676 - val_loss: 1.0278 - val_accuracy: 0.5508\n",
            "Epoch 86/100\n",
            "91/91 [==============================] - 104s 1s/step - loss: 0.9969 - accuracy: 0.5695 - val_loss: 1.2064 - val_accuracy: 0.5278\n",
            "Epoch 87/100\n",
            "91/91 [==============================] - 102s 1s/step - loss: 1.0310 - accuracy: 0.5529 - val_loss: 1.0431 - val_accuracy: 0.5496\n",
            "Epoch 88/100\n",
            "91/91 [==============================] - 103s 1s/step - loss: 1.0258 - accuracy: 0.5610 - val_loss: 1.0530 - val_accuracy: 0.5472\n",
            "Epoch 89/100\n",
            "91/91 [==============================] - 103s 1s/step - loss: 0.9771 - accuracy: 0.5876 - val_loss: 1.0285 - val_accuracy: 0.5545\n",
            "Epoch 90/100\n",
            "91/91 [==============================] - 103s 1s/step - loss: 1.0123 - accuracy: 0.5636 - val_loss: 1.0618 - val_accuracy: 0.5448\n",
            "Epoch 91/100\n",
            "91/91 [==============================] - 103s 1s/step - loss: 1.0131 - accuracy: 0.5572 - val_loss: 1.0630 - val_accuracy: 0.5545\n",
            "Epoch 92/100\n",
            "91/91 [==============================] - 104s 1s/step - loss: 1.0324 - accuracy: 0.5646 - val_loss: 1.0320 - val_accuracy: 0.5508\n",
            "Epoch 93/100\n",
            "91/91 [==============================] - 102s 1s/step - loss: 0.9769 - accuracy: 0.5895 - val_loss: 1.0559 - val_accuracy: 0.5521\n",
            "Epoch 94/100\n",
            "91/91 [==============================] - 102s 1s/step - loss: 0.9514 - accuracy: 0.5945 - val_loss: 1.1984 - val_accuracy: 0.5182\n",
            "Epoch 95/100\n",
            "91/91 [==============================] - 102s 1s/step - loss: 1.0011 - accuracy: 0.5812 - val_loss: 1.0494 - val_accuracy: 0.5472\n",
            "Epoch 96/100\n",
            "91/91 [==============================] - 103s 1s/step - loss: 0.9872 - accuracy: 0.5864 - val_loss: 1.1792 - val_accuracy: 0.5012\n",
            "Epoch 97/100\n",
            "91/91 [==============================] - 102s 1s/step - loss: 0.9707 - accuracy: 0.5834 - val_loss: 1.0670 - val_accuracy: 0.5424\n",
            "Epoch 98/100\n",
            "91/91 [==============================] - 102s 1s/step - loss: 0.9906 - accuracy: 0.5831 - val_loss: 1.1250 - val_accuracy: 0.5242\n",
            "Epoch 99/100\n",
            "91/91 [==============================] - 102s 1s/step - loss: 1.0052 - accuracy: 0.5698 - val_loss: 1.0405 - val_accuracy: 0.5605\n",
            "Epoch 100/100\n",
            "91/91 [==============================] - 106s 1s/step - loss: 1.0151 - accuracy: 0.5636 - val_loss: 1.1882 - val_accuracy: 0.5230\n"
          ]
        }
      ]
    },
    {
      "cell_type": "markdown",
      "source": [
        "# Graficos de perdida en fit\n"
      ],
      "metadata": {
        "id": "Jd2HWzZp-GIh"
      }
    },
    {
      "cell_type": "code",
      "source": [
        "import matplotlib.pyplot as plt\n",
        "\n",
        "#metrics=['accuracy', metrics.Recall(), metrics.AUC()\n",
        "\n",
        "def plot_history(history, title='', axs=None, exp_name=\"\"):\n",
        "    if axs is not None:\n",
        "        ax1, ax2 = axs\n",
        "    else:\n",
        "        f, (ax1, ax2) = plt.subplots(1, 2, figsize=(12, 4))\n",
        "    \n",
        "    if len(exp_name) > 0 and exp_name[0] != '_':\n",
        "        exp_name = '_' + exp_name\n",
        "    ax1.plot(history.history['loss'], label='train' + exp_name)\n",
        "    ax1.plot(history.history['val_loss'], label='val' + exp_name)\n",
        "    #ax1.set_ylim(0., 2.2)\n",
        "    ax1.set_title('loss')\n",
        "    ax1.legend()\n",
        "\n",
        "    ax2.plot(history.history['accuracy'], label='train accuracy'  + exp_name)\n",
        "    ax2.plot(history.history['val_accuracy'], label='val accuracy'  + exp_name)\n",
        "    #ax2.set_ylim(0.25, 1.)\n",
        "    ax2.set_title('Accuracy')\n",
        "    ax2.legend()\n",
        "    return (ax1, ax2)"
      ],
      "metadata": {
        "id": "DLVaUD2KnaZo"
      },
      "execution_count": 12,
      "outputs": []
    },
    {
      "cell_type": "code",
      "source": [
        "plot_history(model_history, title='');"
      ],
      "metadata": {
        "id": "PSfaJtdFCOsu",
        "colab": {
          "base_uri": "https://localhost:8080/",
          "height": 281
        },
        "outputId": "2b1f9feb-99bb-44e4-ace6-c396c2e644a7"
      },
      "execution_count": 13,
      "outputs": [
        {
          "output_type": "display_data",
          "data": {
            "image/png": "[encoded data removed]",
            "text/plain": [
              "<Figure size 864x288 with 2 Axes>"
            ]
          },
          "metadata": {
            "needs_background": "light"
          }
        }
      ]
    },
    {
      "cell_type": "markdown",
      "source": [
        "# Evaluate"
      ],
      "metadata": {
        "id": "JPLVw14Q-P4s"
      }
    },
    {
      "cell_type": "markdown",
      "source": [
        "https://scikit-learn.org/stable/modules/generated/sklearn.metrics.classification_report.html"
      ],
      "metadata": {
        "id": "-iubt0vq-YkD"
      }
    },
    {
      "cell_type": "code",
      "source": [
        "model.evaluate(test_dataset, verbose=1)"
      ],
      "metadata": {
        "colab": {
          "base_uri": "https://localhost:8080/"
        },
        "id": "XbkM8jQk-S2f",
        "outputId": "88e24b4d-4eeb-494e-e5a0-02ded216a32b"
      },
      "execution_count": 14,
      "outputs": [
        {
          "output_type": "stream",
          "name": "stdout",
          "text": [
            "26/26 [==============================] - 1139s 46s/step - loss: 1.1674 - accuracy: 0.5181\n"
          ]
        },
        {
          "output_type": "execute_result",
          "data": {
            "text/plain": [
              "[1.1673976182937622, 0.5181159377098083]"
            ]
          },
          "metadata": {},
          "execution_count": 14
        }
      ]
    },
    {
      "cell_type": "code",
      "source": [
        "pred = model.predict(test_dataset)\n",
        "pred"
      ],
      "metadata": {
        "colab": {
          "base_uri": "https://localhost:8080/"
        },
        "id": "SPJu36P_Da4y",
        "outputId": "235a5527-9e96-4d12-9338-059e0cc1f725"
      },
      "execution_count": 15,
      "outputs": [
        {
          "output_type": "execute_result",
          "data": {
            "text/plain": [
              "array([[8.9183265e-01, 8.5301295e-02, 2.2655997e-02, 2.0998408e-04,\n",
              "        6.4962400e-08],\n",
              "       [9.1814750e-01, 6.7903504e-02, 1.3765423e-02, 1.8322546e-04,\n",
              "        2.7775414e-07],\n",
              "       [5.6146955e-01, 1.9784199e-01, 2.3935689e-01, 1.3315874e-03,\n",
              "        6.3854323e-08],\n",
              "       ...,\n",
              "       [9.3912380e-03, 2.1497566e-02, 1.9255039e-01, 4.0045998e-01,\n",
              "        3.7610081e-01],\n",
              "       [7.7082813e-03, 2.3069194e-02, 4.7157097e-01, 4.3748575e-01,\n",
              "        6.0165778e-02],\n",
              "       [1.2638177e-04, 8.3953858e-04, 7.1006648e-02, 4.8071927e-01,\n",
              "        4.4730824e-01]], dtype=float32)"
            ]
          },
          "metadata": {},
          "execution_count": 15
        }
      ]
    },
    {
      "cell_type": "code",
      "source": [
        "y_pred = pred.argmax(axis=1)\n",
        "\n",
        "y_true = test_dataset.labels"
      ],
      "metadata": {
        "id": "tr4Omvb5MObd"
      },
      "execution_count": 16,
      "outputs": []
    },
    {
      "cell_type": "code",
      "source": [
        "from sklearn.metrics import classification_report\n",
        "\n",
        "print(classification_report(y_true, y_pred))"
      ],
      "metadata": {
        "colab": {
          "base_uri": "https://localhost:8080/"
        },
        "id": "8qkYu2BcZGWE",
        "outputId": "996c8575-0bef-475f-847d-9e638532ce04"
      },
      "execution_count": 17,
      "outputs": [
        {
          "output_type": "stream",
          "name": "stdout",
          "text": [
            "              precision    recall  f1-score   support\n",
            "\n",
            "           0       0.51      0.97      0.67       639\n",
            "           1       0.00      0.00      0.00       296\n",
            "           2       0.49      0.37      0.42       447\n",
            "           3       0.62      0.27      0.38       223\n",
            "           4       0.92      0.22      0.35        51\n",
            "\n",
            "    accuracy                           0.52      1656\n",
            "   macro avg       0.51      0.37      0.36      1656\n",
            "weighted avg       0.44      0.52      0.43      1656\n",
            "\n"
          ]
        },
        {
          "output_type": "stream",
          "name": "stderr",
          "text": [
            "/usr/local/lib/python3.7/dist-packages/sklearn/metrics/_classification.py:1318: UndefinedMetricWarning: Precision and F-score are ill-defined and being set to 0.0 in labels with no predicted samples. Use `zero_division` parameter to control this behavior.\n",
            "  _warn_prf(average, modifier, msg_start, len(result))\n",
            "/usr/local/lib/python3.7/dist-packages/sklearn/metrics/_classification.py:1318: UndefinedMetricWarning: Precision and F-score are ill-defined and being set to 0.0 in labels with no predicted samples. Use `zero_division` parameter to control this behavior.\n",
            "  _warn_prf(average, modifier, msg_start, len(result))\n",
            "/usr/local/lib/python3.7/dist-packages/sklearn/metrics/_classification.py:1318: UndefinedMetricWarning: Precision and F-score are ill-defined and being set to 0.0 in labels with no predicted samples. Use `zero_division` parameter to control this behavior.\n",
            "  _warn_prf(average, modifier, msg_start, len(result))\n"
          ]
        }
      ]
    },
    {
      "cell_type": "code",
      "source": [
        "import seaborn as sns\n",
        "import matplotlib.pyplot as plt\n",
        "from sklearn.metrics import confusion_matrix\n",
        "from sklearn.metrics import ConfusionMatrixDisplay\n",
        "\n",
        "cm = confusion_matrix(y_true, y_pred)\n",
        "ax = sns.heatmap(cm, annot=True, cmap='Blues')\n",
        "\n",
        "ax.set_title('Seaborn Confusion Matrix with labels\\n\\n');\n",
        "ax.set_xlabel('\\nPredicted Category')\n",
        "ax.set_ylabel('Actual Category ');\n",
        "\n",
        "## Ticket labels - List must be in alphabetical order\n",
        "ax.xaxis.set_ticklabels(['K0','K1', 'K2', 'K3', 'K4'])\n",
        "ax.yaxis.set_ticklabels(['K0','K1', 'K2', 'K3', 'K4'])\n",
        "\n",
        "## Display the visualization of the Confusion Matrix.\n",
        "plt.show()"
      ],
      "metadata": {
        "colab": {
          "base_uri": "https://localhost:8080/",
          "height": 337
        },
        "id": "eBA9OPs8Zocx",
        "outputId": "8d545e92-4005-4067-9358-24655971e88c"
      },
      "execution_count": 19,
      "outputs": [
        {
          "output_type": "display_data",
          "data": {
            "image/png": "[encoded data removed]",
            "text/plain": [
              "<Figure size 432x288 with 2 Axes>"
            ]
          },
          "metadata": {
            "needs_background": "light"
          }
        }
      ]
    }
  ]
}